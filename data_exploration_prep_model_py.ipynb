{
    "nbformat_minor": 0, 
    "metadata": {
        "language_info": {
            "codemirror_mode": {
                "name": "ipython", 
                "version": 2
            }, 
            "pygments_lexer": "ipython2", 
            "version": "2.7.11", 
            "name": "python", 
            "file_extension": ".py", 
            "mimetype": "text/x-python", 
            "nbconvert_exporter": "python"
        }, 
        "kernelspec": {
            "language": "python", 
            "name": "python2-spark20", 
            "display_name": "Python 2 with Spark 2.0"
        }
    }, 
    "cells": [
        {
            "source": "<table style=\"border: none\" align=\"left\">\n<tr style=\"border: none\">\n<th style=\"border: none\"><img src=\"http://i.imgur.com/o1X3CAd.jpg\" alt=\"Icon\" align=\"left\"></th>\n</tr>\n   <tr style=\"border: none\">\n      <th style=\"border: none\"><font face=\"verdana\" size=\"6\" color=\"black\"><b>Cognihack Data Science Track</b></font></th>\n   </tr>\n   <tr style=\"border: none\">\n      <th style=\"border: none\"><font face=\"verdana\" size=\"5\" color=\"black\"><b>Predicting repeat shopping likelihood with Python, Spark and Watson Machine Learning</b></font></th>\n   </tr>\n   <tr style=\"border: none\">\n       <th style=\"border: none\"><img src=\"https://kaggle2.blob.core.windows.net/competitions/kaggle/3897/media/shoppers_lores.png\" alt=\"Icon\" align=\"left\"> </th>\n   </tr>\n</table>", 
            "metadata": {}, 
            "cell_type": "markdown"
        }, 
        {
            "source": "This notebook will take you through the process of creating a predictive model in Python using the data manipulation and machine learning libraries distributed with Spark.  \n- The data we are using here is an open source dataset prepared for a [machine learning challenge](https://www.kaggle.com/c/acquire-valued-shoppers-challenge) hosted on the [Kaggle](https://www.kaggle.com/) website.  \n\nOnce we've worked through the process of reading, understanding and preparing our data and have built a simple model together, we'll deploy it to the [Watson Machine Learning service](https://datascience.ibm.com/features#machinelearning) and make it available as a real-time scoring service.  \n\nYou should spend the remaining time working as a group to speculate on how you might improve these predictions. The cognihack tutors will endeavour to assist with any experimentation to help you create and evaluate refinements to the baseline model.\n\n# Learning goals\n\nThe learning goals of this exercise are:\n\n-  Loading CSV files into an Apache\u00ae Spark DataFrame.\n-  Exploring the data using the features within:  \n    a) Spark's data wrangling Python API: __pyspark.sql__;  \n    b) the __pandas__ data wrangling library; and  \n    c) __matplotlib__ for exploratory plots.  \n-  Engineering some basic predictive features, again using __pyspark.sql__ and Spark __user defined functions (UDFs)__.\n-  Preparing the data for training and evaluation.\n-  Creating an Apache\u00ae Spark machine learning pipeline.\n-  Training and evaluating a model.\n-  Persisting a pipeline and model in Watson Machine Learning repository.\n-  Deploying the model for online scoring using Wastson Machine Learning API.\n-  Scoring sample scoring data using the Watson Machine Learning API.\n\n\n# Contents\n\nThis notebook contains the following parts:\n\n1.\t[Setup](#setup)\n2.\t[Load and understand data](#load)\n3.  [Prepare dataset](#prepare)\n4.\t[Create a basic model](#model)\n5.\t[Deploy and score](#deploy)\n6.\t[Taking it further](#tuning)", 
            "metadata": {}, 
            "cell_type": "markdown"
        }, 
        {
            "source": "<a id=\"setup\"></a>\n# 1. Setup\nBefore we begin working through this notebook, you must perform the following setup tasks:\n\n-  Sign up for the IBM Data Science Experience (using w3 credentials) and create a new project;\n-  Retrieve the **Acquire Valued Shoppers Challenge** data from the [Cognihack Box folder](https://ibm.ent.box.com/folder/25592156534);\n-  Import the data (in csv format) into the Data Science Experience as a 'data asset' (the transactions_subset.csv file will require decompression prior to upload);\n-  Make sure that you are using a Spark 2.0 kernel and Python 2.x; and\n-  Create a [Watson Machine Learning Service](https://console.ng.bluemix.net/catalog/services/ibm-watson-machine-learning/) instance (a free plan is offered).", 
            "metadata": {}, 
            "cell_type": "markdown"
        }, 
        {
            "source": "<a id=\"load\"></a>\n# 2. Load and explore data", 
            "metadata": {}, 
            "cell_type": "markdown"
        }, 
        {
            "source": "## 2.1 Load the data\nThe first step in our analysis process is to bring our data into the Spark environment.  To do this, you will need to experiment with the 'Find and Add Data' functionality within the notebooks environment (see sidebar):\n1.  Find the entry corresponding to one of the .CSV files you uploaded as a data asset.\n2.  Click into the blank cell below this one so that you can see the cursor is ready to insert text.\n3.  Select 'insert credentials' from the drop-down menu next to the file name.\n\nIf everthing has worked correctly, you should now see some code in the cell below defining a new __Python dict__ named *credentials_1*.", 
            "metadata": {}, 
            "cell_type": "markdown"
        }, 
        {
            "execution_count": 96, 
            "source": "# The code was removed by DSX for sharing.", 
            "metadata": {
                "collapsed": false
            }, 
            "cell_type": "code", 
            "outputs": []
        }, 
        {
            "source": "__pyspark.sql__ will help us load and manipulate our data from Python while it resides in Spark.", 
            "metadata": {}, 
            "cell_type": "markdown"
        }, 
        {
            "execution_count": 97, 
            "source": "from pyspark.sql import SparkSession\nfrom pyspark.sql import functions as F", 
            "metadata": {
                "collapsed": true
            }, 
            "cell_type": "code", 
            "outputs": []
        }, 
        {
            "source": "This function is used to setup the access of Spark to your Object Storage.", 
            "metadata": {}, 
            "cell_type": "markdown"
        }, 
        {
            "execution_count": 99, 
            "source": "def set_hadoop_config_with_credentials(name):\n    \"\"\"This function sets the Hadoop configuration so it is possible to\n    access data from Bluemix Object Storage using Spark\"\"\"\n\n    prefix = 'fs.swift.service.' + name\n    hconf = sc._jsc.hadoopConfiguration()\n    hconf.set(prefix + '.auth.url', credentials_1[\"auth_url\"] +'/v3/auth/tokens')\n    hconf.set(prefix + '.auth.endpoint.prefix', 'endpoints')\n    hconf.set(prefix + '.tenant', credentials_1[\"project_id\"])\n    hconf.set(prefix + '.username', credentials_1[\"user_id\"])\n    hconf.set(prefix + '.password', credentials_1[\"password\"])\n    hconf.setInt(prefix + '.http.port', 8080)\n    hconf.set(prefix + '.region', credentials_1[\"region\"])\n    hconf.setBoolean(prefix + '.public', False)\n\n# you can choose any name\nname = 'keystone'\nset_hadoop_config_with_credentials(name)\n\nspark = SparkSession.builder.getOrCreate()\n", 
            "metadata": {
                "collapsed": false
            }, 
            "cell_type": "code", 
            "outputs": []
        }, 
        {
            "source": "The _spark.read_ function will import a flat file into our spark instance, directly from the Object Store.", 
            "metadata": {}, 
            "cell_type": "markdown"
        }, 
        {
            "execution_count": 102, 
            "source": "offers = spark.read\\\n  .format('org.apache.spark.sql.execution.datasources.csv.CSVFileFormat')\\\n  .option('header', 'true')\\\n  .load('swift://' + credentials_1[\"container\"] + '.' + name + '/offers.csv')\n\ntrainHistory = spark.read\\\n  .format('org.apache.spark.sql.execution.datasources.csv.CSVFileFormat')\\\n  .option('header', 'true')\\\n  .load('swift://' + credentials_1[\"container\"] + '.' + name + '/trainHistory.csv')\n    \ntransactions = spark.read\\\n  .format('org.apache.spark.sql.execution.datasources.csv.CSVFileFormat')\\\n  .option('header', 'true')\\\n  .load('swift://' + credentials_1[\"container\"] + '.' + name + '/transactions_subset.csv')", 
            "metadata": {
                "collapsed": false
            }, 
            "cell_type": "code", 
            "outputs": []
        }, 
        {
            "source": "When this is done, we are left with is a Python object which is a logical pointer to a Spark DataFrame object.  \nNotice as well that Spark will give us some information on how it is breaking down the heavy lifting into discrete and parallelisable tasks.", 
            "metadata": {}, 
            "cell_type": "markdown"
        }, 
        {
            "source": "## 2.2 Quality and completeness\nBefore we can get stuck into building predictive models, we need to first understand if any immediate attention is required to issues of data quality and completeness.", 
            "metadata": {}, 
            "cell_type": "markdown"
        }, 
        {
            "source": "Like many data manipulation libraries, Spark makes its own decisions about how to read in data.  \nTo check it has treated our data as we expected, we need to compare the schemata of our Spark DataFrames to that provided with the datasets:\n\n> \n__history__  \n__id__ - A unique id representing a customer  \n__chain__ - An integer representing a store chain  \n__offer__ - An id representing a certain offer  \n__market__ - An id representing a geographical region  \n__repeattrips__ - The number of times the customer made a repeat purchase  \n__repeater__ - A boolean, equal to repeattrips > 0  \n__offerdate__ - The date a customer received the offer  \n>\n__transactions__  \n__id__ - see above  \n__chain__ - see above  \n__dept__ - An aggregate grouping of the Category (e.g. water)  \n__category__ - The product category (e.g. sparkling water)  \n__company__ - An id of the company that sells the item  \n__brand__ - An id of the brand to which the item belongs  \n__date__ - The date of purchase  \n__productsize__ - The amount of the product purchase (e.g. 16 oz of water)  \n__productmeasure__ - The units of the product purchase (e.g. ounces)  \n__purchasequantity__ - The number of units purchased  \n__purchaseamount__ - The dollar amount of the purchase  \n>\n__offers__  \n__offer__ - see above  \n__category__ - see above  \n__quantity__ - The number of units one must purchase to get the discount  \n__company__ - see above  \n__offervalue__ - The dollar value of the offer  \n__brand__ - see above  \n>\nThe transactions file can be joined to the history file by (id,chain). The history file can be joined to the offers file by (offer). The transactions file can be joined to the offers file by (category, brand, company). A negative value in productquantity and purchaseamount indicates a return.\n\nWhile we're at it, let's also see how many observations each dataset has, take a peek at the data and look for any missing values.", 
            "metadata": {}, 
            "cell_type": "markdown"
        }, 
        {
            "source": "### 2.2.1 Offer details", 
            "metadata": {}, 
            "cell_type": "markdown"
        }, 
        {
            "source": "First up, the count of observations in the dataset.", 
            "metadata": {}, 
            "cell_type": "markdown"
        }, 
        {
            "execution_count": 103, 
            "source": "offers.count()", 
            "metadata": {
                "collapsed": false
            }, 
            "cell_type": "code", 
            "outputs": [
                {
                    "execution_count": 103, 
                    "data": {
                        "text/plain": "37"
                    }, 
                    "metadata": {}, 
                    "output_type": "execute_result"
                }
            ]
        }, 
        {
            "source": "A small, reference dataset.", 
            "metadata": {}, 
            "cell_type": "markdown"
        }, 
        {
            "source": "Next question: how is the data typed within the Spark DataFrame?", 
            "metadata": {}, 
            "cell_type": "markdown"
        }, 
        {
            "execution_count": 104, 
            "source": "offers.schema", 
            "metadata": {
                "collapsed": false
            }, 
            "cell_type": "code", 
            "outputs": [
                {
                    "execution_count": 104, 
                    "data": {
                        "text/plain": "StructType(List(StructField(offer,StringType,true),StructField(category,StringType,true),StructField(quantity,StringType,true),StructField(company,StringType,true),StructField(offervalue,StringType,true),StructField(brand,StringType,true)))"
                    }, 
                    "metadata": {}, 
                    "output_type": "execute_result"
                }
            ]
        }, 
        {
            "source": "Spark has interpreted every field as a string. \ud83d\ude44\n\nThere are two fields: _offervalue_ and _quantity_ that definitely should not be strings - let's fix them up now.", 
            "metadata": {}, 
            "cell_type": "markdown"
        }, 
        {
            "execution_count": 105, 
            "source": "offers = offers.withColumn(\"offervalue\", offers[\"offervalue\"].cast(\"double\"))\noffers = offers.withColumn(\"quantity\", offers[\"quantity\"].cast(\"double\"))", 
            "metadata": {
                "collapsed": true
            }, 
            "cell_type": "code", 
            "outputs": []
        }, 
        {
            "source": "Now we're ready to take a peak at the data.", 
            "metadata": {}, 
            "cell_type": "markdown"
        }, 
        {
            "execution_count": 106, 
            "source": "offers.show()", 
            "metadata": {
                "collapsed": false
            }, 
            "cell_type": "code", 
            "outputs": [
                {
                    "name": "stdout", 
                    "output_type": "stream", 
                    "text": "+-------+--------+--------+----------+----------+------+\n|  offer|category|quantity|   company|offervalue| brand|\n+-------+--------+--------+----------+----------+------+\n|1190530|    9115|     1.0| 108500080|       5.0| 93904|\n|1194044|    9909|     1.0| 107127979|       1.0|  6732|\n|1197502|    3203|     1.0| 106414464|      0.75| 13474|\n|1198271|    5558|     1.0| 107120272|       1.5|  5072|\n|1198272|    5558|     1.0| 107120272|       1.5|  5072|\n|1198273|    5558|     1.0| 107120272|       1.5|  5072|\n|1198274|    5558|     1.0| 107120272|       1.5|  5072|\n|1198275|    5558|     1.0| 107120272|       1.5|  5072|\n|1199256|    4401|     1.0| 105100050|       2.0| 13791|\n|1199258|    4401|     1.0| 105100050|       2.0| 13791|\n|1200578|    1703|     1.0| 104460040|       1.5|  7668|\n|1200579|    1703|     1.0| 104460040|       1.5|  7668|\n|1200581|    1726|     1.0| 104460040|      1.25|  7668|\n|1200582|    1726|     1.0| 104460040|      1.25|  7668|\n|1200584|    3504|     1.0| 104460040|      1.25|  7668|\n|1200988|    3509|     1.0| 103320030|       2.0|   875|\n|1203052|    9909|     1.0|1089520383|       1.0| 28840|\n|1203439|    5122|     1.0| 107106878|       1.5| 17311|\n|1204576|    5616|     1.0| 104610040|       1.0| 15889|\n|1204821|    5619|     1.0| 107717272|       1.5|102504|\n+-------+--------+--------+----------+----------+------+\nonly showing top 20 rows\n\n"
                }
            ]
        }, 
        {
            "source": "And finally, check for any records with a missing value in critical fields.", 
            "metadata": {}, 
            "cell_type": "markdown"
        }, 
        {
            "execution_count": 107, 
            "source": "offers.where(offers.offer.isNull() |\n            offers.category.isNull() |\n            offers.quantity.isNull() |\n            offers.company.isNull() |\n            offers.offervalue.isNull() |\n            offers.brand.isNull()).count()", 
            "metadata": {
                "collapsed": false
            }, 
            "cell_type": "code", 
            "outputs": [
                {
                    "execution_count": 107, 
                    "data": {
                        "text/plain": "0"
                    }, 
                    "metadata": {}, 
                    "output_type": "execute_result"
                }
            ]
        }, 
        {
            "source": "### 2.2.2 Customer-Offer History", 
            "metadata": {}, 
            "cell_type": "markdown"
        }, 
        {
            "source": "Can you repeat the same operations here?\n1.  Count the records;\n2.  Inspect the type schema;\n3.  Convert miss-typed fields using _withColumn()_ and _cast()_;\n4.  Inspect the data; and\n5.  Check the dataset for missing values.", 
            "metadata": {}, 
            "cell_type": "markdown"
        }, 
        {
            "execution_count": 108, 
            "source": "trainHistory.count()", 
            "metadata": {
                "collapsed": false
            }, 
            "cell_type": "code", 
            "outputs": [
                {
                    "execution_count": 108, 
                    "data": {
                        "text/plain": "160057"
                    }, 
                    "metadata": {}, 
                    "output_type": "execute_result"
                }
            ]
        }, 
        {
            "source": "A larger dataset that relates offers and customers.", 
            "metadata": {}, 
            "cell_type": "markdown"
        }, 
        {
            "execution_count": 109, 
            "source": "trainHistory.schema", 
            "metadata": {
                "collapsed": false
            }, 
            "cell_type": "code", 
            "outputs": [
                {
                    "execution_count": 109, 
                    "data": {
                        "text/plain": "StructType(List(StructField(id,StringType,true),StructField(chain,StringType,true),StructField(offer,StringType,true),StructField(market,StringType,true),StructField(repeattrips,StringType,true),StructField(repeater,StringType,true),StructField(offerdate,StringType,true)))"
                    }, 
                    "metadata": {}, 
                    "output_type": "execute_result"
                }
            ]
        }, 
        {
            "source": "Same deal. Let's do some conversion to numeric and datetime types.", 
            "metadata": {}, 
            "cell_type": "markdown"
        }, 
        {
            "execution_count": 110, 
            "source": "trainHistory = trainHistory.withColumn(\"repeattrips\", trainHistory[\"repeattrips\"].cast(\"double\"))\ntrainHistory = trainHistory.withColumn(\"repeater\", trainHistory[\"repeater\"].cast(\"boolean\"))\ntrainHistory = trainHistory.withColumn(\"repeater\", trainHistory[\"repeater\"].cast(\"double\"))\ntrainHistory = trainHistory.withColumn(\"offerdate\", trainHistory[\"offerdate\"].cast(\"date\"))", 
            "metadata": {
                "collapsed": true
            }, 
            "cell_type": "code", 
            "outputs": []
        }, 
        {
            "execution_count": 111, 
            "source": "trainHistory.show()", 
            "metadata": {
                "collapsed": false
            }, 
            "cell_type": "code", 
            "outputs": [
                {
                    "name": "stdout", 
                    "output_type": "stream", 
                    "text": "+--------+-----+-------+------+-----------+--------+----------+\n|      id|chain|  offer|market|repeattrips|repeater| offerdate|\n+--------+-----+-------+------+-----------+--------+----------+\n|   86246|  205|1208251|    34|        5.0|     1.0|2013-04-24|\n|   86252|  205|1197502|    34|       16.0|     1.0|2013-03-27|\n|12682470|   18|1197502|    11|        0.0|     0.0|2013-03-28|\n|12996040|   15|1197502|     9|        0.0|     0.0|2013-03-25|\n|13089312|   15|1204821|     9|        0.0|     0.0|2013-04-01|\n|13179265|   14|1197502|     8|        0.0|     0.0|2013-03-29|\n|13251776|   15|1200581|     9|        0.0|     0.0|2013-03-30|\n|13540129|   14|1200581|     8|        0.0|     0.0|2013-03-30|\n|13807224|    4|1204576|     1|        0.0|     0.0|2013-04-05|\n|13873775|    4|1197502|     1|        0.0|     0.0|2013-03-26|\n|13974451|    4|1197502|     1|        0.0|     0.0|2013-03-26|\n|14088807|    3|1200581|     2|        1.0|     1.0|2013-04-17|\n|14381137|    4|1197502|     1|        0.0|     0.0|2013-04-04|\n|14576147|   18|1197502|    11|        0.0|     0.0|2013-04-02|\n|15530842|   95|1197502|    39|        0.0|     0.0|2013-04-19|\n|15705695|   15|1197502|     9|        0.0|     0.0|2013-04-02|\n|15738658|   17|1197502|     4|        0.0|     0.0|2013-04-22|\n|15753725|   17|1208251|     4|        0.0|     0.0|2013-04-24|\n|15941277|   14|1197502|     8|        1.0|     1.0|2013-03-26|\n|15994113|    4|1197502|     1|        0.0|     0.0|2013-03-26|\n+--------+-----+-------+------+-----------+--------+----------+\nonly showing top 20 rows\n\n"
                }
            ]
        }, 
        {
            "execution_count": 112, 
            "source": "trainHistory.where(trainHistory.chain.isNull() | \n                  trainHistory.market.isNull() |\n                  trainHistory.repeattrips.isNull() |\n                  trainHistory.repeater.isNull() |\n                  trainHistory.offerdate.isNull()).count()", 
            "metadata": {
                "collapsed": false
            }, 
            "cell_type": "code", 
            "outputs": [
                {
                    "execution_count": 112, 
                    "data": {
                        "text/plain": "0"
                    }, 
                    "metadata": {}, 
                    "output_type": "execute_result"
                }
            ]
        }, 
        {
            "source": "### 2.2.3 Transactions", 
            "metadata": {}, 
            "cell_type": "markdown"
        }, 
        {
            "execution_count": 113, 
            "source": "transactions.count()", 
            "metadata": {
                "collapsed": false
            }, 
            "cell_type": "code", 
            "outputs": [
                {
                    "execution_count": 113, 
                    "data": {
                        "text/plain": "27764694"
                    }, 
                    "metadata": {}, 
                    "output_type": "execute_result"
                }
            ]
        }, 
        {
            "source": "The largest of the three datasets.", 
            "metadata": {}, 
            "cell_type": "markdown"
        }, 
        {
            "execution_count": 114, 
            "source": "transactions.schema", 
            "metadata": {
                "collapsed": false
            }, 
            "cell_type": "code", 
            "outputs": [
                {
                    "execution_count": 114, 
                    "data": {
                        "text/plain": "StructType(List(StructField(id,StringType,true),StructField(chain,StringType,true),StructField(dept,StringType,true),StructField(category,StringType,true),StructField(company,StringType,true),StructField(brand,StringType,true),StructField(date,StringType,true),StructField(productsize,StringType,true),StructField(productmeasure,StringType,true),StructField(purchasequantity,StringType,true),StructField(purchaseamount,StringType,true)))"
                    }, 
                    "metadata": {}, 
                    "output_type": "execute_result"
                }
            ]
        }, 
        {
            "execution_count": 115, 
            "source": "transactions = transactions.withColumn(\"date\", transactions[\"date\"].cast(\"date\"))\ntransactions = transactions.withColumn(\"productsize\", transactions[\"productsize\"].cast(\"double\"))\ntransactions = transactions.withColumn(\"purchasequantity\", transactions[\"purchasequantity\"].cast(\"double\"))\ntransactions = transactions.withColumn(\"purchaseamount\", transactions[\"purchaseamount\"].cast(\"double\"))", 
            "metadata": {
                "collapsed": true
            }, 
            "cell_type": "code", 
            "outputs": []
        }, 
        {
            "execution_count": 116, 
            "source": "transactions.show()", 
            "metadata": {
                "collapsed": false
            }, 
            "cell_type": "code", 
            "outputs": [
                {
                    "name": "stdout", 
                    "output_type": "stream", 
                    "text": "+-----+-----+----+--------+----------+-----+----------+-----------+--------------+----------------+--------------+\n|   id|chain|dept|category|   company|brand|      date|productsize|productmeasure|purchasequantity|purchaseamount|\n+-----+-----+----+--------+----------+-----+----------+-----------+--------------+----------------+--------------+\n|86246|  205|   3|     305| 103320030|  875|2013-03-09|       16.0|            OZ|             1.0|          0.99|\n|86246|  205|   3|     305| 103320030|  875|2013-03-10|       32.0|            OZ|             1.0|          1.69|\n|86246|  205|   3|     305| 103320030|  875|2013-04-04|        8.0|            OZ|             2.0|          1.38|\n|86246|  205|   6|     610| 108079383|12778|2013-04-20|       16.0|            OZ|             1.0|          1.99|\n|86246|  205|   7|     703|1076211171|17286|2012-06-16|       0.93|            OZ|             1.0|          7.09|\n|86246|  205|   7|     706| 101200010|17286|2013-03-03|        9.5|            OZ|             1.0|          1.89|\n|86246|  205|   7|     706| 101200010|17286|2013-03-04|       38.0|            OZ|             1.0|          7.77|\n|86246|  205|   7|     706| 101200010|17286|2013-04-23|        9.5|            OZ|             2.0|          3.78|\n|86246|  205|   7|     706| 104127141|26189|2013-02-02|       64.0|            OZ|             1.0|          3.99|\n|86246|  205|   7|     706| 104127141|26189|2013-03-04|       64.0|            OZ|             1.0|          3.99|\n|86246|  205|   7|     706| 104127141|26189|2013-03-11|       64.0|            OZ|             1.0|          3.99|\n|86246|  205|   7|     706| 104127141|26189|2013-03-16|       64.0|            OZ|             1.0|          3.99|\n|86246|  205|   7|     706| 104127141|26189|2013-04-03|       64.0|            OZ|             1.0|          3.99|\n|86246|  205|   7|     706| 104127141|26189|2013-04-16|       64.0|            OZ|             1.0|          3.99|\n|86246|  205|   7|     708|1076211171|17286|2012-09-02|       12.0|            OZ|             1.0|         10.19|\n|86246|  205|   7|     708|1076211171|17286|2013-03-27|       12.0|            OZ|             1.0|         10.29|\n|86246|  205|   7|     708|1076211171|17286|2013-04-19|       12.0|            OZ|             1.0|         10.29|\n|86246|  205|   8|     803| 106414464| 7770|2012-04-06|       12.0|            OZ|             1.0|          2.69|\n|86246|  205|   8|     809| 105100050| 2820|2012-06-01|       10.5|            OZ|             2.0|           2.0|\n|86246|  205|   8|     809| 105100050| 2820|2012-11-04|      10.25|            OZ|             1.0|           1.0|\n+-----+-----+----+--------+----------+-----+----------+-----------+--------------+----------------+--------------+\nonly showing top 20 rows\n\n"
                }
            ]
        }, 
        {
            "execution_count": 117, 
            "source": "transactions.where(transactions.id.isNull() |\n                  transactions.chain.isNull() |\n                  transactions.dept.isNull() |\n                  transactions.category.isNull() |\n                  transactions.company.isNull() |\n                  transactions.brand.isNull() |\n                  transactions.date.isNull() |\n                  transactions.productsize.isNull() |\n                  transactions.productmeasure.isNull() |\n                  transactions.purchasequantity.isNull() |\n                  transactions.purchaseamount.isNull()).count()", 
            "metadata": {
                "collapsed": false
            }, 
            "cell_type": "code", 
            "outputs": [
                {
                    "execution_count": 117, 
                    "data": {
                        "text/plain": "0"
                    }, 
                    "metadata": {}, 
                    "output_type": "execute_result"
                }
            ]
        }, 
        {
            "source": "## 2.3 Exploration\nLet's begin interpreting the contents of these sets, starting with the range of dates over which the offers were presented to customers.", 
            "metadata": {}, 
            "cell_type": "markdown"
        }, 
        {
            "execution_count": 118, 
            "source": "trainHistory.agg(\n    F.min(\"offerdate\").alias(\"offerdate_min\")\n    , F.max(\"offerdate\").alias(\"offerdate_max\")).show()", 
            "metadata": {
                "collapsed": false
            }, 
            "cell_type": "code", 
            "outputs": [
                {
                    "name": "stdout", 
                    "output_type": "stream", 
                    "text": "+-------------+-------------+\n|offerdate_min|offerdate_max|\n+-------------+-------------+\n|   2013-03-01|   2013-04-30|\n+-------------+-------------+\n\n"
                }
            ]
        }, 
        {
            "source": "What is the frequency of records across some of the categorical variables?", 
            "metadata": {}, 
            "cell_type": "markdown"
        }, 
        {
            "execution_count": 119, 
            "source": "trainHistory.groupBy(trainHistory.chain).count().orderBy(\"count\", ascending = False).show(n = 50)", 
            "metadata": {
                "collapsed": false
            }, 
            "cell_type": "code", 
            "outputs": [
                {
                    "name": "stdout", 
                    "output_type": "stream", 
                    "text": "+-----+-----+\n|chain|count|\n+-----+-----+\n|   21|27373|\n|  152|10967|\n|   96| 8657|\n|   64| 5889|\n|  360| 5880|\n|   46| 5440|\n|  153| 4850|\n|  101| 4727|\n|  166| 3499|\n|  214| 3390|\n|  377| 2977|\n|    6| 2808|\n|   42| 2711|\n|   89| 2604|\n|  285| 2589|\n|  507| 2586|\n|  165| 2484|\n|  240| 2465|\n|  508| 2375|\n|   15| 2305|\n|   98| 2042|\n|   70| 1967|\n|   24| 1922|\n|   77| 1820|\n|    4| 1753|\n|  126| 1717|\n|   26| 1677|\n|   83| 1675|\n|    2| 1652|\n|  143| 1484|\n|  510| 1454|\n|  104| 1429|\n|   12| 1406|\n|  191| 1391|\n|  211| 1380|\n|   31| 1380|\n|    8| 1327|\n|  206| 1249|\n|   16| 1224|\n|   58| 1162|\n|   18| 1144|\n|   63| 1136|\n|  431| 1121|\n|   85| 1057|\n|   65| 1036|\n|  100|  988|\n|   68|  955|\n|   17|  935|\n|  151|  929|\n|   14|  755|\n+-----+-----+\nonly showing top 50 rows\n\n"
                }
            ]
        }, 
        {
            "source": "Probably too many of these to do anything useful without grouping.", 
            "metadata": {}, 
            "cell_type": "markdown"
        }, 
        {
            "source": "Try for yourself with the _market_ variable.", 
            "metadata": {}, 
            "cell_type": "markdown"
        }, 
        {
            "execution_count": 120, 
            "source": "trainHistory.groupBy(trainHistory.market).count().orderBy(\"count\", ascending = False).show(n = 50)", 
            "metadata": {
                "collapsed": false
            }, 
            "cell_type": "code", 
            "outputs": [
                {
                    "name": "stdout", 
                    "output_type": "stream", 
                    "text": "+------+-----+\n|market|count|\n+------+-----+\n|    10|41724|\n|    21| 9919|\n|    27| 8657|\n|    37| 7700|\n|     9| 7648|\n|    20| 7438|\n|    15| 7434|\n|    12| 7345|\n|    96| 6895|\n|     8| 6187|\n|    14| 5310|\n|     1| 5037|\n|     4| 4804|\n|    16| 4631|\n|    34| 4045|\n|    33| 3525|\n|    35| 2652|\n|     2| 2044|\n|     7| 2003|\n|    39| 1982|\n|    18| 1903|\n|    11| 1715|\n|    28| 1538|\n|    22| 1495|\n|    17| 1384|\n|    24| 1380|\n|    26| 1036|\n|    43|  668|\n|    45|  631|\n|    23|  511|\n|     6|  491|\n|    93|  188|\n|    47|   71|\n|     5|   66|\n+------+-----+\n\n"
                }
            ]
        }, 
        {
            "source": "Slightly more usable, perhaps we'll come back to this.", 
            "metadata": {}, 
            "cell_type": "markdown"
        }, 
        {
            "execution_count": 121, 
            "source": "trainHistory.describe([\"repeattrips\", \"repeater\"]).show()", 
            "metadata": {
                "collapsed": false
            }, 
            "cell_type": "code", 
            "outputs": [
                {
                    "name": "stdout", 
                    "output_type": "stream", 
                    "text": "+-------+-----------------+-------------------+\n|summary|      repeattrips|           repeater|\n+-------+-----------------+-------------------+\n|  count|           160057|             160057|\n|   mean|0.656334930680945|0.27139081702143614|\n| stddev|6.786515664667542|0.44467862202604597|\n|    min|              0.0|                0.0|\n|    max|           2124.0|                1.0|\n+-------+-----------------+-------------------+\n\n"
                }
            ]
        }, 
        {
            "source": "First insight: 27% of customers to whom an offer is made become repeat shoppers. Does this vary across _market_?", 
            "metadata": {}, 
            "cell_type": "markdown"
        }, 
        {
            "execution_count": 122, 
            "source": "trainHistory.groupBy(trainHistory.market).agg(\n    F.count(\"id\").alias(\"customer_count\")\n    , F.avg(\"repeater\").alias(\"response_rate\")\n    ).orderBy(\"response_rate\", ascending = False).show()", 
            "metadata": {
                "collapsed": false
            }, 
            "cell_type": "code", 
            "outputs": [
                {
                    "name": "stdout", 
                    "output_type": "stream", 
                    "text": "+------+--------------+-------------------+\n|market|customer_count|      response_rate|\n+------+--------------+-------------------+\n|    14|          5310|0.44689265536723166|\n|    21|          9919| 0.3638471620122996|\n|    34|          4045|0.31470951792336216|\n|     9|          7648| 0.2906642259414226|\n|    35|          2652| 0.2888386123680241|\n|    10|         41724| 0.2863819384526891|\n|    27|          8657|0.28323899734319047|\n|     4|          4804| 0.2810158201498751|\n|    20|          7438| 0.2737294971766604|\n|     8|          6187|0.27169872312914173|\n|    16|          4631|0.26408982941049447|\n|    18|          1903|0.26221755123489227|\n|    37|          7700| 0.2620779220779221|\n|    47|            71| 0.2535211267605634|\n|    24|          1380| 0.2514492753623188|\n|    12|          7345| 0.2494213750850919|\n|     7|          2003|0.24463305042436345|\n|    28|          1538| 0.2340702210663199|\n|    33|          3525|0.23347517730496453|\n|    43|           668| 0.2275449101796407|\n+------+--------------+-------------------+\nonly showing top 20 rows\n\n"
                }
            ]
        }, 
        {
            "source": "There's a hypothesis emerging here that our larger markets may show the strongest response to offers. Let's plot it to check.", 
            "metadata": {}, 
            "cell_type": "markdown"
        }, 
        {
            "execution_count": 123, 
            "source": "count_vs_rate = trainHistory.groupBy(trainHistory.market).agg(\n    F.count(\"id\").alias(\"customer_count\")\n    , F.avg(\"repeater\").alias(\"response_rate\")\n    ).orderBy(\"response_rate\", ascending = False).toPandas()", 
            "metadata": {
                "collapsed": false
            }, 
            "cell_type": "code", 
            "outputs": []
        }, 
        {
            "execution_count": 124, 
            "source": "%matplotlib inline\nimport matplotlib.pyplot as plt\ncount_vs_rate.plot(kind='scatter', x='customer_count', y='response_rate')", 
            "metadata": {
                "collapsed": false
            }, 
            "cell_type": "code", 
            "outputs": [
                {
                    "execution_count": 124, 
                    "data": {
                        "text/plain": "<matplotlib.axes._subplots.AxesSubplot at 0x7f1dd4c43d50>"
                    }, 
                    "metadata": {}, 
                    "output_type": "execute_result"
                }, 
                {
                    "data": {
                        "image/png": "[encoded data removed]", 
                        "text/plain": "<matplotlib.figure.Figure at 0x7f1eab991590>"
                    }, 
                    "metadata": {}, 
                    "output_type": "display_data"
                }
            ]
        }, 
        {
            "execution_count": 125, 
            "source": "count_vs_rate[count_vs_rate.customer_count < 40000].plot(kind='scatter', x='customer_count', y='response_rate')", 
            "metadata": {
                "collapsed": false
            }, 
            "cell_type": "code", 
            "outputs": [
                {
                    "execution_count": 125, 
                    "data": {
                        "text/plain": "<matplotlib.axes._subplots.AxesSubplot at 0x7f1dd69d6190>"
                    }, 
                    "metadata": {}, 
                    "output_type": "execute_result"
                }, 
                {
                    "data": {
                        "image/png": "[encoded data removed]", 
                        "text/plain": "<matplotlib.figure.Figure at 0x7f1dd4c71890>"
                    }, 
                    "metadata": {}, 
                    "output_type": "display_data"
                }
            ]
        }, 
        {
            "source": "There is a weak relationship there, but we probably won't want to employ something as nuanced as this in our first iteration of analysis. Interesting to know though!", 
            "metadata": {}, 
            "cell_type": "markdown"
        }, 
        {
            "source": "We understand a little bit of the offer history data. Let's just check for missing values.", 
            "metadata": {}, 
            "cell_type": "markdown"
        }, 
        {
            "source": "Now we need to repeat the process across our other datasets. Let's start with the offers.", 
            "metadata": {}, 
            "cell_type": "markdown"
        }, 
        {
            "execution_count": 126, 
            "source": "offers.describe([\"quantity\", \"offervalue\"]).show()", 
            "metadata": {
                "collapsed": false
            }, 
            "cell_type": "code", 
            "outputs": [
                {
                    "name": "stdout", 
                    "output_type": "stream", 
                    "text": "+-------+------------------+------------------+\n|summary|          quantity|        offervalue|\n+-------+------------------+------------------+\n|  count|                37|                37|\n|   mean| 1.027027027027027|1.6486486486486487|\n| stddev|0.1643989873053573|0.7347038789810421|\n|    min|               1.0|              0.75|\n|    max|               2.0|               5.0|\n+-------+------------------+------------------+\n\n"
                }
            ]
        }, 
        {
            "source": "Looks as though a small number of the offers have a different _quantity_ value.", 
            "metadata": {}, 
            "cell_type": "markdown"
        }, 
        {
            "execution_count": 127, 
            "source": "offers.groupBy(\"quantity\").count().show()", 
            "metadata": {
                "collapsed": false
            }, 
            "cell_type": "code", 
            "outputs": [
                {
                    "name": "stdout", 
                    "output_type": "stream", 
                    "text": "+--------+-----+\n|quantity|count|\n+--------+-----+\n|     1.0|   36|\n|     2.0|    1|\n+--------+-----+\n\n"
                }
            ]
        }, 
        {
            "source": "Interesting. Is this still applicable when we join _offers_ to our _history_ dataset?", 
            "metadata": {}, 
            "cell_type": "markdown"
        }, 
        {
            "execution_count": 128, 
            "source": "offers[offers.quantity == 2].show()", 
            "metadata": {
                "collapsed": false
            }, 
            "cell_type": "code", 
            "outputs": [
                {
                    "name": "stdout", 
                    "output_type": "stream", 
                    "text": "+-------+--------+--------+---------+----------+-----+\n|  offer|category|quantity|  company|offervalue|brand|\n+-------+--------+--------+---------+----------+-----+\n|1221658|    7205|     2.0|103700030|       3.0| 4294|\n+-------+--------+--------+---------+----------+-----+\n\n"
                }
            ]
        }, 
        {
            "execution_count": 129, 
            "source": "trainHistory[trainHistory.offer==\"1221658\"].count()", 
            "metadata": {
                "collapsed": false
            }, 
            "cell_type": "code", 
            "outputs": [
                {
                    "execution_count": 129, 
                    "data": {
                        "text/plain": "0"
                    }, 
                    "metadata": {}, 
                    "output_type": "execute_result"
                }
            ]
        }, 
        {
            "source": "No. In which case, it's not going to be significant for our analysis and modelling.  \nDo any of the categorical fields have few enough levels to enter into a simple classification model?", 
            "metadata": {}, 
            "cell_type": "markdown"
        }, 
        {
            "execution_count": 130, 
            "source": "offers.groupBy(\"company\").count().orderBy(\"count\", ascending = False).show()", 
            "metadata": {
                "collapsed": false
            }, 
            "cell_type": "code", 
            "outputs": [
                {
                    "name": "stdout", 
                    "output_type": "stream", 
                    "text": "+----------+-----+\n|   company|count|\n+----------+-----+\n| 104460040|    7|\n| 103700030|    5|\n| 107120272|    5|\n| 107717272|    2|\n| 105450050|    2|\n|1076211171|    2|\n|1087744888|    2|\n| 105100050|    2|\n| 103320030|    1|\n| 107127979|    1|\n| 104610040|    1|\n| 105190050|    1|\n| 107106878|    1|\n| 106414464|    1|\n| 104127141|    1|\n| 108500080|    1|\n|1089520383|    1|\n| 108079383|    1|\n+----------+-----+\n\n"
                }
            ]
        }, 
        {
            "execution_count": 131, 
            "source": "offers.groupBy(\"brand\").count().orderBy(\"count\", ascending = False).show()", 
            "metadata": {
                "collapsed": false
            }, 
            "cell_type": "code", 
            "outputs": [
                {
                    "name": "stdout", 
                    "output_type": "stream", 
                    "text": "+------+-----+\n| brand|count|\n+------+-----+\n|  5072|    5|\n|  4294|    5|\n|  7668|    5|\n| 64486|    2|\n|102504|    2|\n|  3718|    2|\n| 17286|    2|\n| 13791|    2|\n|  1322|    2|\n|  6732|    1|\n| 26456|    1|\n| 28840|    1|\n|  6926|    1|\n| 17311|    1|\n| 93904|    1|\n| 13474|    1|\n| 15889|    1|\n| 26189|    1|\n|   875|    1|\n+------+-----+\n\n"
                }
            ]
        }, 
        {
            "execution_count": 132, 
            "source": "offers.groupBy(\"category\").count().orderBy(\"count\", ascending = False).show()", 
            "metadata": {
                "collapsed": false
            }, 
            "cell_type": "code", 
            "outputs": [
                {
                    "name": "stdout", 
                    "output_type": "stream", 
                    "text": "+--------+-----+\n|category|count|\n+--------+-----+\n|    7205|    5|\n|    5558|    5|\n|     799|    2|\n|    4517|    2|\n|    4401|    2|\n|    5619|    2|\n|    1726|    2|\n|    6202|    2|\n|    2202|    2|\n|    9909|    2|\n|    1703|    2|\n|    3504|    1|\n|    3509|    1|\n|    9115|    1|\n|     706|    1|\n|    5824|    1|\n|    2119|    1|\n|    3203|    1|\n|    5616|    1|\n|    5122|    1|\n+--------+-----+\n\n"
                }
            ]
        }, 
        {
            "source": "These might work in a classification tree model which automatically groups, or as a binned aggregate measure of the response rate across each.  \nLet's move on to the transactions.", 
            "metadata": {}, 
            "cell_type": "markdown"
        }, 
        {
            "source": "What is the range of dates of our transactions?", 
            "metadata": {}, 
            "cell_type": "markdown"
        }, 
        {
            "execution_count": 133, 
            "source": "transactions.agg(\n    F.min(\"date\").alias(\"date_min\")\n    ,F.max(\"date\").alias(\"date_max\")).show()", 
            "metadata": {
                "collapsed": false
            }, 
            "cell_type": "code", 
            "outputs": [
                {
                    "name": "stdout", 
                    "output_type": "stream", 
                    "text": "+----------+----------+\n|  date_min|  date_max|\n+----------+----------+\n|2012-03-02|2013-07-28|\n+----------+----------+\n\n"
                }
            ]
        }, 
        {
            "source": "Right, so up to a year before the offers were presented.  \nWhat are the ranges of _purchasequantity_ and _purchaseamount_?", 
            "metadata": {}, 
            "cell_type": "markdown"
        }, 
        {
            "execution_count": 134, 
            "source": "transactions.describe([\"productsize\"\n                       ,\"productmeasure\"\n                       ,\"purchasequantity\"\n                       , \"purchaseamount\"]).show()", 
            "metadata": {
                "collapsed": false
            }, 
            "cell_type": "code", 
            "outputs": [
                {
                    "name": "stdout", 
                    "output_type": "stream", 
                    "text": "+-------+------------------+--------------+------------------+-----------------+\n|summary|       productsize|productmeasure|  purchasequantity|   purchaseamount|\n+-------+------------------+--------------+------------------+-----------------+\n|  count|          27764694|      27764694|          27764694|         27764694|\n|   mean|28.733898486697075|          null|1.4904842819445443|5.286881874218255|\n| stddev|42.335490620192346|          null|3.8869839815667038|9.019249258411122|\n|    min|               0.0|            CT|             -27.0|          -885.04|\n|    max|            1080.0|            YD|           11845.0|         20728.75|\n+-------+------------------+--------------+------------------+-----------------+\n\n"
                }
            ]
        }, 
        {
            "source": "OK, we have some returns data in here, too. We may need to account for this in a future iteration of modelling work.   ", 
            "metadata": {}, 
            "cell_type": "markdown"
        }, 
        {
            "source": "<a id=\"prepare\"></a>\n# 3. Data preparation\nThe output of this phase is a dataset with which we can build and test models.  \nGiven that the aim of the task is to make customer-offer level predictions about likelihood to become a repeat purchaser, data that we use from the _offers_ or _transactions_ datasets will need to be joined to the _history_ dataset.  \nWe have also observed that the _transactions_ dataset contains a large volume of datat, too much to enter into a model without aggregation to the customer, offer level. In aggregating this, our goal is to select an approach which generates features that:\n\na)  retain as much information about the behaviour of these customers as possible; and  \nb)  will be usable in our model (some algorithms can only accept numerical inputs, for example).\n\nAs a starter set, we will simply measure how much each customer had spent in the 30, 60, 90 and 180 days prior to being made an offer.  \nTo do so, we will first need to join the offer history and transactions tables.", 
            "metadata": {}, 
            "cell_type": "markdown"
        }, 
        {
            "execution_count": 135, 
            "source": "offertxns = transactions.join(trainHistory.select([\"id\" , \"chain\", \"offer\", \"offerdate\", \"repeater\"]), [\"id\", \"chain\"], how = \"inner\")\noffertxns.show(n=5)", 
            "metadata": {
                "collapsed": false
            }, 
            "cell_type": "code", 
            "outputs": [
                {
                    "name": "stdout", 
                    "output_type": "stream", 
                    "text": "+-----+-----+----+--------+----------+-----+----------+-----------+--------------+----------------+--------------+-------+----------+--------+\n|   id|chain|dept|category|   company|brand|      date|productsize|productmeasure|purchasequantity|purchaseamount|  offer| offerdate|repeater|\n+-----+-----+----+--------+----------+-----+----------+-----------+--------------+----------------+--------------+-------+----------+--------+\n|86246|  205|   3|     305| 103320030|  875|2013-03-09|       16.0|            OZ|             1.0|          0.99|1208251|2013-04-24|     1.0|\n|86246|  205|   3|     305| 103320030|  875|2013-03-10|       32.0|            OZ|             1.0|          1.69|1208251|2013-04-24|     1.0|\n|86246|  205|   3|     305| 103320030|  875|2013-04-04|        8.0|            OZ|             2.0|          1.38|1208251|2013-04-24|     1.0|\n|86246|  205|   6|     610| 108079383|12778|2013-04-20|       16.0|            OZ|             1.0|          1.99|1208251|2013-04-24|     1.0|\n|86246|  205|   7|     703|1076211171|17286|2012-06-16|       0.93|            OZ|             1.0|          7.09|1208251|2013-04-24|     1.0|\n+-----+-----+----+--------+----------+-----+----------+-----------+--------------+----------------+--------------+-------+----------+--------+\nonly showing top 5 rows\n\n"
                }
            ]
        }, 
        {
            "source": "Calculate \"history\" interval dates based on _offerdate_.", 
            "metadata": {}, 
            "cell_type": "markdown"
        }, 
        {
            "execution_count": 136, 
            "source": "offertxns = offertxns.withColumn(\"offerdate_30\", F.date_sub(offertxns.offerdate, 30))\noffertxns = offertxns.withColumn(\"offerdate_60\", F.date_sub(offertxns.offerdate, 60))\noffertxns = offertxns.withColumn(\"offerdate_90\", F.date_sub(offertxns.offerdate, 90))\noffertxns = offertxns.withColumn(\"offerdate_180\", F.date_sub(offertxns.offerdate, 180))\noffertxns.show(n=5)", 
            "metadata": {
                "collapsed": false
            }, 
            "cell_type": "code", 
            "outputs": [
                {
                    "name": "stdout", 
                    "output_type": "stream", 
                    "text": "+-----+-----+----+--------+----------+-----+----------+-----------+--------------+----------------+--------------+-------+----------+--------+------------+------------+------------+-------------+\n|   id|chain|dept|category|   company|brand|      date|productsize|productmeasure|purchasequantity|purchaseamount|  offer| offerdate|repeater|offerdate_30|offerdate_60|offerdate_90|offerdate_180|\n+-----+-----+----+--------+----------+-----+----------+-----------+--------------+----------------+--------------+-------+----------+--------+------------+------------+------------+-------------+\n|86246|  205|   3|     305| 103320030|  875|2013-03-09|       16.0|            OZ|             1.0|          0.99|1208251|2013-04-24|     1.0|  2013-03-25|  2013-02-23|  2013-01-24|   2012-10-26|\n|86246|  205|   3|     305| 103320030|  875|2013-03-10|       32.0|            OZ|             1.0|          1.69|1208251|2013-04-24|     1.0|  2013-03-25|  2013-02-23|  2013-01-24|   2012-10-26|\n|86246|  205|   3|     305| 103320030|  875|2013-04-04|        8.0|            OZ|             2.0|          1.38|1208251|2013-04-24|     1.0|  2013-03-25|  2013-02-23|  2013-01-24|   2012-10-26|\n|86246|  205|   6|     610| 108079383|12778|2013-04-20|       16.0|            OZ|             1.0|          1.99|1208251|2013-04-24|     1.0|  2013-03-25|  2013-02-23|  2013-01-24|   2012-10-26|\n|86246|  205|   7|     703|1076211171|17286|2012-06-16|       0.93|            OZ|             1.0|          7.09|1208251|2013-04-24|     1.0|  2013-03-25|  2013-02-23|  2013-01-24|   2012-10-26|\n+-----+-----+----+--------+----------+-----+----------+-----------+--------------+----------------+--------------+-------+----------+--------+------------+------------+------------+-------------+\nonly showing top 5 rows\n\n"
                }
            ]
        }, 
        {
            "source": "We can employ a Spark \"user defined function\" to create corresponding aggregation flags to identify whether the transaction in scope of one of the history periods.", 
            "metadata": {}, 
            "cell_type": "markdown"
        }, 
        {
            "execution_count": 137, 
            "source": "from pyspark.sql.functions import udf\nfrom pyspark.sql.types import IntegerType\n\ndef inDateRange(date, date_lower, date_upper):\n    if date >= date_lower and date <= date_upper: return 1\n    else: return 0\n\nudfInDateRange = udf(inDateRange, IntegerType())\n    \noffertxns = offertxns.withColumn(\"offerdate_30_tf\", udfInDateRange(offertxns.date, offertxns.offerdate_30, offertxns.offerdate))\noffertxns = offertxns.withColumn(\"offerdate_60_tf\", udfInDateRange(offertxns.date, offertxns.offerdate_60, offertxns.offerdate))\noffertxns = offertxns.withColumn(\"offerdate_90_tf\", udfInDateRange(offertxns.date, offertxns.offerdate_90, offertxns.offerdate))\noffertxns = offertxns.withColumn(\"offerdate_180_tf\", udfInDateRange(offertxns.date, offertxns.offerdate_180, offertxns.offerdate))\noffertxns.show(n=5)", 
            "metadata": {
                "collapsed": false
            }, 
            "cell_type": "code", 
            "outputs": [
                {
                    "name": "stdout", 
                    "output_type": "stream", 
                    "text": "+-----+-----+----+--------+----------+-----+----------+-----------+--------------+----------------+--------------+-------+----------+--------+------------+------------+------------+-------------+---------------+---------------+---------------+----------------+\n|   id|chain|dept|category|   company|brand|      date|productsize|productmeasure|purchasequantity|purchaseamount|  offer| offerdate|repeater|offerdate_30|offerdate_60|offerdate_90|offerdate_180|offerdate_30_tf|offerdate_60_tf|offerdate_90_tf|offerdate_180_tf|\n+-----+-----+----+--------+----------+-----+----------+-----------+--------------+----------------+--------------+-------+----------+--------+------------+------------+------------+-------------+---------------+---------------+---------------+----------------+\n|86246|  205|   3|     305| 103320030|  875|2013-03-09|       16.0|            OZ|             1.0|          0.99|1208251|2013-04-24|     1.0|  2013-03-25|  2013-02-23|  2013-01-24|   2012-10-26|              0|              1|              1|               1|\n|86246|  205|   3|     305| 103320030|  875|2013-03-10|       32.0|            OZ|             1.0|          1.69|1208251|2013-04-24|     1.0|  2013-03-25|  2013-02-23|  2013-01-24|   2012-10-26|              0|              1|              1|               1|\n|86246|  205|   3|     305| 103320030|  875|2013-04-04|        8.0|            OZ|             2.0|          1.38|1208251|2013-04-24|     1.0|  2013-03-25|  2013-02-23|  2013-01-24|   2012-10-26|              1|              1|              1|               1|\n|86246|  205|   6|     610| 108079383|12778|2013-04-20|       16.0|            OZ|             1.0|          1.99|1208251|2013-04-24|     1.0|  2013-03-25|  2013-02-23|  2013-01-24|   2012-10-26|              1|              1|              1|               1|\n|86246|  205|   7|     703|1076211171|17286|2012-06-16|       0.93|            OZ|             1.0|          7.09|1208251|2013-04-24|     1.0|  2013-03-25|  2013-02-23|  2013-01-24|   2012-10-26|              0|              0|              0|               0|\n+-----+-----+----+--------+----------+-----+----------+-----------+--------------+----------------+--------------+-------+----------+--------+------------+------------+------------+-------------+---------------+---------------+---------------+----------------+\nonly showing top 5 rows\n\n"
                }
            ]
        }, 
        {
            "source": "At this point we can calculate the quantity and spend per customer per offer.  \nAs an extension, you could join onto the offers table and create equivalent measures for quantity and spend in the same brand, company and category as the offer presented to the customer.", 
            "metadata": {}, 
            "cell_type": "markdown"
        }, 
        {
            "execution_count": 138, 
            "source": "offertxns = offertxns.withColumn(\"offerdate_30_qty\", offertxns.purchasequantity * offertxns.offerdate_30_tf)\noffertxns = offertxns.withColumn(\"offerdate_60_qty\", offertxns.purchasequantity * offertxns.offerdate_60_tf)\noffertxns = offertxns.withColumn(\"offerdate_90_qty\", offertxns.purchasequantity * offertxns.offerdate_90_tf)\noffertxns = offertxns.withColumn(\"offerdate_180_qty\", offertxns.purchasequantity * offertxns.offerdate_180_tf)\n\noffertxns = offertxns.withColumn(\"offerdate_30_amt\", offertxns.purchaseamount * offertxns.offerdate_30_tf)\noffertxns = offertxns.withColumn(\"offerdate_60_amt\", offertxns.purchaseamount * offertxns.offerdate_60_tf)\noffertxns = offertxns.withColumn(\"offerdate_90_amt\", offertxns.purchaseamount * offertxns.offerdate_90_tf)\noffertxns = offertxns.withColumn(\"offerdate_180_amt\", offertxns.purchaseamount * offertxns.offerdate_180_tf)\noffertxns.show(n=5)", 
            "metadata": {
                "collapsed": false
            }, 
            "cell_type": "code", 
            "outputs": [
                {
                    "name": "stdout", 
                    "output_type": "stream", 
                    "text": "+-----+-----+----+--------+----------+-----+----------+-----------+--------------+----------------+--------------+-------+----------+--------+------------+------------+------------+-------------+---------------+---------------+---------------+----------------+----------------+----------------+----------------+-----------------+----------------+----------------+----------------+-----------------+\n|   id|chain|dept|category|   company|brand|      date|productsize|productmeasure|purchasequantity|purchaseamount|  offer| offerdate|repeater|offerdate_30|offerdate_60|offerdate_90|offerdate_180|offerdate_30_tf|offerdate_60_tf|offerdate_90_tf|offerdate_180_tf|offerdate_30_qty|offerdate_60_qty|offerdate_90_qty|offerdate_180_qty|offerdate_30_amt|offerdate_60_amt|offerdate_90_amt|offerdate_180_amt|\n+-----+-----+----+--------+----------+-----+----------+-----------+--------------+----------------+--------------+-------+----------+--------+------------+------------+------------+-------------+---------------+---------------+---------------+----------------+----------------+----------------+----------------+-----------------+----------------+----------------+----------------+-----------------+\n|86246|  205|   3|     305| 103320030|  875|2013-03-09|       16.0|            OZ|             1.0|          0.99|1208251|2013-04-24|     1.0|  2013-03-25|  2013-02-23|  2013-01-24|   2012-10-26|              0|              1|              1|               1|             0.0|             1.0|             1.0|              1.0|             0.0|            0.99|            0.99|             0.99|\n|86246|  205|   3|     305| 103320030|  875|2013-03-10|       32.0|            OZ|             1.0|          1.69|1208251|2013-04-24|     1.0|  2013-03-25|  2013-02-23|  2013-01-24|   2012-10-26|              0|              1|              1|               1|             0.0|             1.0|             1.0|              1.0|             0.0|            1.69|            1.69|             1.69|\n|86246|  205|   3|     305| 103320030|  875|2013-04-04|        8.0|            OZ|             2.0|          1.38|1208251|2013-04-24|     1.0|  2013-03-25|  2013-02-23|  2013-01-24|   2012-10-26|              1|              1|              1|               1|             2.0|             2.0|             2.0|              2.0|            1.38|            1.38|            1.38|             1.38|\n|86246|  205|   6|     610| 108079383|12778|2013-04-20|       16.0|            OZ|             1.0|          1.99|1208251|2013-04-24|     1.0|  2013-03-25|  2013-02-23|  2013-01-24|   2012-10-26|              1|              1|              1|               1|             1.0|             1.0|             1.0|              1.0|            1.99|            1.99|            1.99|             1.99|\n|86246|  205|   7|     703|1076211171|17286|2012-06-16|       0.93|            OZ|             1.0|          7.09|1208251|2013-04-24|     1.0|  2013-03-25|  2013-02-23|  2013-01-24|   2012-10-26|              0|              0|              0|               0|             0.0|             0.0|             0.0|              0.0|             0.0|             0.0|             0.0|              0.0|\n+-----+-----+----+--------+----------+-----+----------+-----------+--------------+----------------+--------------+-------+----------+--------+------------+------------+------------+-------------+---------------+---------------+---------------+----------------+----------------+----------------+----------------+-----------------+----------------+----------------+----------------+-----------------+\nonly showing top 5 rows\n\n"
                }
            ]
        }, 
        {
            "execution_count": 139, 
            "source": "offertxnsSum = offertxns.groupBy([\"id\", \"chain\", \"offer\", \"offerdate\", \"repeater\"]).agg(\n    F.sum(\"offerdate_30_qty\").alias(\"qty_30\")\n    , F.sum(\"offerdate_60_qty\").alias(\"qty_60\")\n    , F.sum(\"offerdate_90_qty\").alias(\"qty_90\")\n    , F.sum(\"offerdate_180_qty\").alias(\"qty_180\")\n    , F.sum(\"offerdate_30_amt\").alias(\"amt_30\")\n    , F.sum(\"offerdate_60_amt\").alias(\"amt_60\")\n    , F.sum(\"offerdate_90_amt\").alias(\"amt_90\")\n    , F.sum(\"offerdate_180_amt\").alias(\"amt_180\"))\noffertxnsSum.show(n=5)", 
            "metadata": {
                "collapsed": false
            }, 
            "cell_type": "code", 
            "outputs": [
                {
                    "name": "stdout", 
                    "output_type": "stream", 
                    "text": "+---------+-----+-------+----------+--------+------+------+------+-------+------------------+------------------+------------------+------------------+\n|       id|chain|  offer| offerdate|repeater|qty_30|qty_60|qty_90|qty_180|            amt_30|            amt_60|            amt_90|           amt_180|\n+---------+-----+-------+----------+--------+------+------+------+-------+------------------+------------------+------------------+------------------+\n|499743981|   21|1197502|2013-03-28|     0.0|  10.0|  26.0|  26.0|   29.0|             44.53|             94.15|             94.15|107.13000000000001|\n|499969321|   21|1208501|2013-04-29|     1.0|   9.0|  17.0|  30.0|   51.0|47.610000000000014| 72.43000000000002|108.10999999999997|            180.65|\n|500066184|   21|1197502|2013-03-26|     0.0|   0.0|   1.0|   4.0|    9.0|               0.0|              3.59|39.059999999999995|              54.2|\n|500119603|   21|1208501|2013-04-28|     1.0|   2.0|  11.0|  19.0|   76.0|              5.16|             19.91|56.650000000000006| 206.8600000000001|\n|500146933|   21|1208329|2013-04-23|     0.0|  22.0|  36.0|  51.0|   76.0| 89.64999999999999|171.95000000000007|263.52000000000004| 359.8299999999999|\n+---------+-----+-------+----------+--------+------+------+------+-------+------------------+------------------+------------------+------------------+\nonly showing top 5 rows\n\n"
                }
            ]
        }, 
        {
            "source": "What is the average spend in these intervals?  \nSpark will allow us to calculate this quite easily. In order to plot this nicely, we will need help from the Python data wrangling library of choice: Pandas. Luckily Spark also offers an easy way to translate between the two types of object using the  _.toPandas()_ function.", 
            "metadata": {}, 
            "cell_type": "markdown"
        }, 
        {
            "execution_count": 140, 
            "source": "import pandas as pd\naverage_spend = offertxnsSum.groupBy(\"repeater\").agg(\n    F.avg(\"amt_30\").alias(\"30\")\n    , F.avg(\"amt_60\").alias(\"60\")\n    , F.avg(\"amt_90\").alias(\"90\")\n    , F.avg(\"amt_180\").alias(\"180\")).toPandas()\n\naverage_spend_melt = pd.melt(average_spend, id_vars = \"repeater\", var_name = \"interval_days\", value_name = \"spend_ave\")\naverage_spend_melt[\"interval_days\"] = pd.to_numeric(average_spend_melt[\"interval_days\"])\n\naverage_spend_melt.head()", 
            "metadata": {
                "collapsed": false
            }, 
            "cell_type": "code", 
            "outputs": [
                {
                    "execution_count": 140, 
                    "data": {
                        "text/html": "<div>\n<table border=\"1\" class=\"dataframe\">\n  <thead>\n    <tr style=\"text-align: right;\">\n      <th></th>\n      <th>repeater</th>\n      <th>interval_days</th>\n      <th>spend_ave</th>\n    </tr>\n  </thead>\n  <tbody>\n    <tr>\n      <th>0</th>\n      <td>0</td>\n      <td>30</td>\n      <td>28.461137</td>\n    </tr>\n    <tr>\n      <th>1</th>\n      <td>1</td>\n      <td>30</td>\n      <td>61.563338</td>\n    </tr>\n    <tr>\n      <th>2</th>\n      <td>0</td>\n      <td>60</td>\n      <td>59.186021</td>\n    </tr>\n    <tr>\n      <th>3</th>\n      <td>1</td>\n      <td>60</td>\n      <td>125.753266</td>\n    </tr>\n    <tr>\n      <th>4</th>\n      <td>0</td>\n      <td>90</td>\n      <td>90.999413</td>\n    </tr>\n  </tbody>\n</table>\n</div>", 
                        "text/plain": "   repeater  interval_days   spend_ave\n0         0             30   28.461137\n1         1             30   61.563338\n2         0             60   59.186021\n3         1             60  125.753266\n4         0             90   90.999413"
                    }, 
                    "metadata": {}, 
                    "output_type": "execute_result"
                }
            ]
        }, 
        {
            "execution_count": 141, 
            "source": "average_spend_melt.plot(kind='scatter', x='interval_days', y='spend_ave', c=\"repeater\")", 
            "metadata": {
                "collapsed": false
            }, 
            "cell_type": "code", 
            "outputs": [
                {
                    "execution_count": 141, 
                    "data": {
                        "text/plain": "<matplotlib.axes._subplots.AxesSubplot at 0x7f1dd72b4e90>"
                    }, 
                    "metadata": {}, 
                    "output_type": "execute_result"
                }, 
                {
                    "data": {
                        "image/png": "[encoded data removed]", 
                        "text/plain": "<matplotlib.figure.Figure at 0x7f1dd6744690>"
                    }, 
                    "metadata": {}, 
                    "output_type": "display_data"
                }
            ]
        }, 
        {
            "source": "<a id=\"model\"></a>\n# 4. Modelling experiments\nWe're now ready to have a first pass at building a model.  ", 
            "metadata": {}, 
            "cell_type": "markdown"
        }, 
        {
            "source": "## 4.1 Holdout partitioning\nFor those who have worked in targeted marketing, this approach will be quite familiar. The premise is to train a model based on one part of your dataset and evaluate its performance using the other.  \nSpark has a convenience function to do just that: _randomSplit()_. The arguments supplied to this function is an array of weights specifying the proportions by which the dataset should be split.", 
            "metadata": {}, 
            "cell_type": "markdown"
        }, 
        {
            "execution_count": 142, 
            "source": "offertxnsSum = offertxnsSum.withColumnRenamed(\"repeater\",\"label\")\nsplits = offertxnsSum.randomSplit([0.7,0.3])\ntrainSet = splits[0]\ntestSet = splits[1]\n\ntrainSet.show(n=5)", 
            "metadata": {
                "collapsed": false, 
                "scrolled": true
            }, 
            "cell_type": "code", 
            "outputs": [
                {
                    "name": "stdout", 
                    "output_type": "stream", 
                    "text": "+----------+-----+-------+----------+-----+------+------+------+-------+------------------+------------------+-----------------+------------------+\n|        id|chain|  offer| offerdate|label|qty_30|qty_60|qty_90|qty_180|            amt_30|            amt_60|           amt_90|           amt_180|\n+----------+-----+-------+----------+-----+------+------+------+-------+------------------+------------------+-----------------+------------------+\n|1009233077|   46|1199258|2013-03-15|  1.0|   1.0|   5.0|  14.0|   27.0|              3.79|             11.48|            39.24|             81.18|\n|1031324422|   46|1199256|2013-03-14|  0.0|  18.0|  25.0|  35.0|   91.0|30.419999999999998|47.510000000000005|75.32000000000001|283.56000000000006|\n| 104356531|   15|1204822|2013-04-19|  0.0|   4.0|  10.0|  15.0|   35.0| 7.359999999999999| 35.93000000000001|            45.32|            131.14|\n| 105097382|    4|1208251|2013-04-26|  0.0|  11.0|  21.0|  31.0|   49.0|             24.99| 62.99000000000001|87.90000000000002|171.80999999999995|\n| 109620553|   15|1208252|2013-04-23|  0.0|  36.0|  67.0|  99.0|  164.0|121.60999999999997| 227.7700000000001|325.0800000000002| 544.1700000000004|\n+----------+-----+-------+----------+-----+------+------+------+-------+------------------+------------------+-----------------+------------------+\nonly showing top 5 rows\n\n"
                }
            ]
        }, 
        {
            "execution_count": 143, 
            "source": "trainSet.count()", 
            "metadata": {
                "collapsed": false
            }, 
            "cell_type": "code", 
            "outputs": [
                {
                    "execution_count": 143, 
                    "data": {
                        "text/plain": "112356"
                    }, 
                    "metadata": {}, 
                    "output_type": "execute_result"
                }
            ]
        }, 
        {
            "source": "Spark has an idio", 
            "metadata": {}, 
            "cell_type": "markdown"
        }, 
        {
            "execution_count": 144, 
            "source": "from pyspark.ml.linalg import Vectors\nfrom pyspark.ml.feature import VectorAssembler\n\nassembler = VectorAssembler(\n    inputCols=[\"qty_30\", \"qty_60\", \"qty_90\", \"qty_180\",\n              \"amt_30\", \"amt_60\", \"amt_90\", \"amt_180\"],\n    outputCol=\"features\")\n\ntrainSetAssembled = assembler.transform(trainSet)\ntrainSetAssembled.show(n=5, truncate = False)", 
            "metadata": {
                "collapsed": false
            }, 
            "cell_type": "code", 
            "outputs": [
                {
                    "name": "stdout", 
                    "output_type": "stream", 
                    "text": "+----------+-----+-------+----------+-----+------+------+------+-------+------------------+------------------+-----------------+------------------+------------------------------------------------------------------------------------------------+\n|id        |chain|offer  |offerdate |label|qty_30|qty_60|qty_90|qty_180|amt_30            |amt_60            |amt_90           |amt_180           |features                                                                                        |\n+----------+-----+-------+----------+-----+------+------+------+-------+------------------+------------------+-----------------+------------------+------------------------------------------------------------------------------------------------+\n|1009233077|46   |1199258|2013-03-15|1.0  |1.0   |5.0   |14.0  |27.0   |3.79              |11.48             |39.24            |81.18             |[1.0,5.0,14.0,27.0,3.79,11.48,39.24,81.18]                                                      |\n|1031324422|46   |1199256|2013-03-14|0.0  |18.0  |25.0  |35.0  |91.0   |30.419999999999998|47.510000000000005|75.32000000000001|283.56000000000006|[18.0,25.0,35.0,91.0,30.419999999999998,47.510000000000005,75.32000000000001,283.56000000000006]|\n|104356531 |15   |1204822|2013-04-19|0.0  |4.0   |10.0  |15.0  |35.0   |7.359999999999999 |35.93000000000001 |45.32            |131.14            |[4.0,10.0,15.0,35.0,7.359999999999999,35.93000000000001,45.32,131.14]                           |\n|105097382 |4    |1208251|2013-04-26|0.0  |11.0  |21.0  |31.0  |49.0   |24.99             |62.99000000000001 |87.90000000000002|171.80999999999995|[11.0,21.0,31.0,49.0,24.99,62.99000000000001,87.90000000000002,171.80999999999995]              |\n|109620553 |15   |1208252|2013-04-23|0.0  |36.0  |67.0  |99.0  |164.0  |121.60999999999997|227.7700000000001 |325.0800000000002|544.1700000000004 |[36.0,67.0,99.0,164.0,121.60999999999997,227.7700000000001,325.0800000000002,544.1700000000004] |\n+----------+-----+-------+----------+-----+------+------+------+-------+------------------+------------------+-----------------+------------------+------------------------------------------------------------------------------------------------+\nonly showing top 5 rows\n\n"
                }
            ]
        }, 
        {
            "execution_count": 145, 
            "source": "from pyspark.ml.classification import LogisticRegression\nlr = LogisticRegression()\nmodel_lr = lr.fit(trainSetAssembled)", 
            "metadata": {
                "collapsed": false
            }, 
            "cell_type": "code", 
            "outputs": []
        }, 
        {
            "execution_count": 146, 
            "source": "model_lr.coefficients", 
            "metadata": {
                "collapsed": false
            }, 
            "cell_type": "code", 
            "outputs": [
                {
                    "execution_count": 146, 
                    "data": {
                        "text/plain": "DenseVector([0.0022, 0.0009, 0.0007, 0.0004, 0.0007, 0.0003, 0.0002, 0.0001])"
                    }, 
                    "metadata": {}, 
                    "output_type": "execute_result"
                }
            ]
        }, 
        {
            "execution_count": 147, 
            "source": "roc_lr = model_lr.summary.roc\nroc_lr = roc_lr.toPandas()\nroc_lr.head()", 
            "metadata": {
                "collapsed": false
            }, 
            "cell_type": "code", 
            "outputs": [
                {
                    "execution_count": 147, 
                    "data": {
                        "text/html": "<div>\n<table border=\"1\" class=\"dataframe\">\n  <thead>\n    <tr style=\"text-align: right;\">\n      <th></th>\n      <th>FPR</th>\n      <th>TPR</th>\n    </tr>\n  </thead>\n  <tbody>\n    <tr>\n      <th>0</th>\n      <td>0.000000</td>\n      <td>0.000000</td>\n    </tr>\n    <tr>\n      <th>1</th>\n      <td>0.002494</td>\n      <td>0.006444</td>\n    </tr>\n    <tr>\n      <th>2</th>\n      <td>0.006236</td>\n      <td>0.013248</td>\n    </tr>\n    <tr>\n      <th>3</th>\n      <td>0.010295</td>\n      <td>0.019921</td>\n    </tr>\n    <tr>\n      <th>4</th>\n      <td>0.014453</td>\n      <td>0.026561</td>\n    </tr>\n  </tbody>\n</table>\n</div>", 
                        "text/plain": "        FPR       TPR\n0  0.000000  0.000000\n1  0.002494  0.006444\n2  0.006236  0.013248\n3  0.010295  0.019921\n4  0.014453  0.026561"
                    }, 
                    "metadata": {}, 
                    "output_type": "execute_result"
                }
            ]
        }, 
        {
            "execution_count": 148, 
            "source": "fig = plt.figure()\nax = plt.axes()\nax.set(title = \"Receiver-Operator Characteristic\",\n       xlabel = \"False Positive Rate\",\n      ylabel = \"True Positive Rate\")\n\nx = [0,1]\ny = [0,1]\nax.plot(x, y)\nax.plot(roc_lr.FPR, roc_lr.TPR)\nplt.show()", 
            "metadata": {
                "collapsed": false
            }, 
            "cell_type": "code", 
            "outputs": [
                {
                    "data": {
                        "image/png": "[encoded data removed]", 
                        "text/plain": "<matplotlib.figure.Figure at 0x7f1dd5dd9150>"
                    }, 
                    "metadata": {}, 
                    "output_type": "display_data"
                }
            ]
        }, 
        {
            "execution_count": 149, 
            "source": "model_lr.summary.areaUnderROC", 
            "metadata": {
                "collapsed": false, 
                "scrolled": true
            }, 
            "cell_type": "code", 
            "outputs": [
                {
                    "execution_count": 149, 
                    "data": {
                        "text/plain": "0.5451202691798842"
                    }, 
                    "metadata": {}, 
                    "output_type": "execute_result"
                }
            ]
        }, 
        {
            "source": "Not bad, the competition benchmark for this dataset is 0.59.  \nBefore we start extending this, we should check if our model generalises well by scoring the test set.  \nWe'll industrialise our model using the pipeline functionality of Spark ML, then use it to transform the test set data.", 
            "metadata": {}, 
            "cell_type": "markdown"
        }, 
        {
            "execution_count": 150, 
            "source": "from pyspark.ml import Pipeline\n\npipeline = Pipeline(stages=[assembler, lr])\nmodel = pipeline.fit(trainSet)", 
            "metadata": {
                "collapsed": false
            }, 
            "cell_type": "code", 
            "outputs": []
        }, 
        {
            "execution_count": null, 
            "source": "prediction = model.transform(testSet)", 
            "metadata": {
                "collapsed": true
            }, 
            "cell_type": "code", 
            "outputs": []
        }, 
        {
            "execution_count": null, 
            "source": "# Select example rows to display.\nprediction.select(\"label\",\"prediction\", \"probability\", \"features\").show(5)", 
            "metadata": {
                "collapsed": false
            }, 
            "cell_type": "code", 
            "outputs": []
        }, 
        {
            "execution_count": null, 
            "source": "from pyspark.ml.evaluation import BinaryClassificationEvaluator\n\nevaluator = BinaryClassificationEvaluator(\n    labelCol=\"label\", rawPredictionCol=\"rawPrediction\", metricName=\"areaUnderROC\")\naccuracy = evaluator.evaluate(prediction)\nprint \"Area under the ROC curve = %g \" % accuracy", 
            "metadata": {
                "collapsed": false
            }, 
            "cell_type": "code", 
            "outputs": []
        }, 
        {
            "execution_count": null, 
            "source": "from sklearn.metrics import roc_curve\n\nprediction_collect = prediction.select(\"label\", \"probability\").toPandas()\nroc_inputs = [(float(i[1][0]), float(i[1][1][1])) for i in prediction_collect.iterrows()]\nroc_inputs = pd.DataFrame(roc_inputs, columns = [\"label\",\"prob\"])\nfpr, tpr, _ = roc_curve(y_true = roc_inputs.label, \n                        y_score = roc_inputs.prob)\n\nroc_lr_test = pd.DataFrame(\n   {\"FPR\" : fpr\n    ,\"TPR\" : tpr})", 
            "metadata": {
                "collapsed": false
            }, 
            "cell_type": "code", 
            "outputs": []
        }, 
        {
            "execution_count": null, 
            "source": "fig = plt.figure()\nax = plt.axes()\nax.set(title = \"Receiver-Operator Characteristic\",\n       xlabel = \"False Positive Rate\",\n      ylabel = \"True Positive Rate\")\n\nx = [0,1]\ny = [0,1]\nax.plot(x, y)\nax.plot(roc_lr.FPR, roc_lr.TPR)\nax.plot(roc_lr_test.FPR, roc_lr_test.TPR, linestyle=\"dashed\")\nplt.show()", 
            "metadata": {
                "collapsed": false
            }, 
            "cell_type": "code", 
            "outputs": []
        }, 
        {
            "source": "<a id=\"deploy\"></a>\n# 5. Deploy and score\n\nWith the advent of __Watson Machine Learning__, we can quite easily deploy our model to a cloud scoring service.  ", 
            "metadata": {}, 
            "cell_type": "markdown"
        }, 
        {
            "source": "## 5.1 Persist Spark model within the ML repository\n\nThe first step here is to import the relevant client libraries.", 
            "metadata": {}, 
            "cell_type": "markdown"
        }, 
        {
            "execution_count": null, 
            "source": "from repository.mlrepositoryclient import MLRepositoryClient\nfrom repository.mlrepositoryartifact import MLRepositoryArtifact", 
            "metadata": {
                "collapsed": true
            }, 
            "cell_type": "code", 
            "outputs": []
        }, 
        {
            "source": "**Tip**: service_path, user and password can be found on **Service Credentials** tab of service instance created in Bluemix.", 
            "metadata": {}, 
            "cell_type": "markdown"
        }, 
        {
            "source": "For example, the following code:  \n```\nwml_service_path = \"https://ibm-watson-ml.mybluemix.net\"  \nwml_username = \"ebecda6c-a18b-4c6f-82e4-4c7fc26361f4\"  \nwml_password = \"4705d497-fcc0-4e1c-9f55-934b13b13fb2\"  \n```\nWill create the necessary credentials to connect to the Watson ML service. Just substitute in your own in the place of these example values.", 
            "metadata": {}, 
            "cell_type": "markdown"
        }, 
        {
            "execution_count": null, 
            "source": "# The code was removed by DSX for sharing.", 
            "metadata": {
                "collapsed": true
            }, 
            "cell_type": "code", 
            "outputs": []
        }, 
        {
            "execution_count": null, 
            "source": "ml_repository_client = MLRepositoryClient(wml_service_path)\nml_repository_client.authorize(wml_username, wml_password)", 
            "metadata": {
                "collapsed": false
            }, 
            "cell_type": "code", 
            "outputs": []
        }, 
        {
            "source": "Create model artifact (abstraction layer).", 
            "metadata": {}, 
            "cell_type": "markdown"
        }, 
        {
            "execution_count": null, 
            "source": "model_artifact = MLRepositoryArtifact(model, training_data=trainSet, name=\"Repeat Buyer Prediction Model\")", 
            "metadata": {
                "collapsed": true
            }, 
            "cell_type": "code", 
            "outputs": []
        }, 
        {
            "source": "**Tip**: The MLRepositoryArtifact method expects a trained model object, training data, and a model name. (It is this model name that is displayed by the Watson Machine Learning service).  ", 
            "metadata": {}, 
            "cell_type": "markdown"
        }, 
        {
            "source": "We can now save our model to the repository.", 
            "metadata": {}, 
            "cell_type": "markdown"
        }, 
        {
            "execution_count": null, 
            "source": "saved_model = ml_repository_client.models.save(model_artifact)", 
            "metadata": {
                "collapsed": true
            }, 
            "cell_type": "code", 
            "outputs": []
        }, 
        {
            "source": "Get saved model metadata from Watson Machine Learning.  \n**Tip**: Use *meta.available_props()* to get the list of available props.", 
            "metadata": {}, 
            "cell_type": "markdown"
        }, 
        {
            "execution_count": null, 
            "source": "saved_model.meta.available_props()", 
            "metadata": {
                "collapsed": false
            }, 
            "cell_type": "code", 
            "outputs": []
        }, 
        {
            "execution_count": null, 
            "source": "print \"modelType: \" + saved_model.meta.prop(\"modelType\")\nprint \"trainingDataSchema: \" + str(saved_model.meta.prop(\"trainingDataSchema\"))\nprint \"creationTime: \" + str(saved_model.meta.prop(\"creationTime\"))\nprint \"modelVersionHref: \" + saved_model.meta.prop(\"modelVersionHref\")\nprint \"label: \" + saved_model.meta.prop(\"label\")", 
            "metadata": {
                "collapsed": false
            }, 
            "cell_type": "code", 
            "outputs": []
        }, 
        {
            "source": "**Tip**: **modelVersionHref** is our model unique indentifier in the Watson Machine Learning repository.", 
            "metadata": {}, 
            "cell_type": "markdown"
        }, 
        {
            "source": "## 5.2 Create an online scoring endpoint\nIn this section you will learn how to create online scoring and to score a new data record by using the Watson Machine Learning REST API.  \nFor more information about REST APIs, see the [Swagger Documentation](http://watson-ml-api.mybluemix.net/).  \nTo work with the Watson Machine Leraning REST API you must generate an access token. To do that you can use the following sample code:", 
            "metadata": {}, 
            "cell_type": "markdown"
        }, 
        {
            "execution_count": null, 
            "source": "import urllib3, requests, json\n\nheaders = urllib3.util.make_headers(basic_auth='{}:{}'.format(wml_username, wml_password))\nurl = '{}/v2/identity/token'.format(wml_service_path)\nresponse = requests.get(url, headers=headers)\nmltoken = json.loads(response.text).get('token')\nprint mltoken", 
            "metadata": {
                "collapsed": false
            }, 
            "cell_type": "code", 
            "outputs": []
        }, 
        {
            "source": "You can now create an online scoring endpoint. Execute the following sample code that uses the **modelVersionHref** value to create the scoring endpoint to the Bluemix repository.", 
            "metadata": {}, 
            "cell_type": "markdown"
        }, 
        {
            "execution_count": null, 
            "source": "endpoint_online = wml_service_path + \"/v2/online/deployments/\"\nheader_online = {'Content-Type': 'application/json', 'Authorization': mltoken}\npayload_online = {\"artifactVersionHref\": saved_model.meta.prop(\"modelVersionHref\"), \"name\": \"Repeat Shopper Prediction\"}\n\nprint endpoint_online\nprint header_online\nprint payload_online\n\nresponse_online = requests.post(endpoint_online, json=payload_online, headers=header_online)\n\nprint response_online\nprint response_online.text\n\nscoring_href = json.loads(response_online.text).get('entity').get('scoringHref')\nprint scoring_href", 
            "metadata": {
                "collapsed": false
            }, 
            "cell_type": "code", 
            "outputs": []
        }, 
        {
            "source": "Let's see what happens when we send a PUT request to our new endpoint containing a new scoring record. The model should hopefully return some predictions.", 
            "metadata": {
                "collapsed": false
            }, 
            "cell_type": "markdown"
        }, 
        {
            "execution_count": null, 
            "source": "payload_scoring = {\n    \"record\":[\n        \"42\", #id                     \n        \"8620\", #chain\n        \"400\", #offer\n        \"2017-6-5\", #offerdate\n        5, #qty_30\n        10, #qty_60\n        15, #qty_90\n        20, #qty_180\n        50, #amt_30\n        100, #amt_60\n        150, #amt_90\n        200, #amt_180\n    ]}\n\nresponse_scoring = requests.put(scoring_href, json=payload_scoring, headers=header_online)\n\nprint response_scoring.text", 
            "metadata": {
                "collapsed": false
            }, 
            "cell_type": "code", 
            "outputs": []
        }, 
        {
            "source": "<a id=\"tuning\"></a>\n# 6. Taking it further: analysis iterations and model tuning", 
            "metadata": {}, 
            "cell_type": "markdown"
        }, 
        {
            "source": "Can you get closer to the benchmark? Think about how you might improve the accuracy of our predictions, perhaps by:\n  - engineering more detailed features;\n  - experimenting with different modelling algorithms; or\n  - employing alternative approaches to model validation.", 
            "metadata": {}, 
            "cell_type": "markdown"
        }, 
        {
            "execution_count": null, 
            "source": "", 
            "metadata": {
                "collapsed": true
            }, 
            "cell_type": "code", 
            "outputs": []
        }
    ], 
    "nbformat": 4
}