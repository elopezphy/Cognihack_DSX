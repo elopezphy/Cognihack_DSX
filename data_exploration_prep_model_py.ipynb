{
    "nbformat": 4, 
    "cells": [
        {
            "cell_type": "markdown", 
            "metadata": {}, 
            "source": "<table style=\"border: none\" align=\"left\">\n<tr style=\"border: none\">\n<th style=\"border: none\"><img src=\"http://i.imgur.com/o1X3CAd.jpg\" alt=\"Icon\" align=\"left\"></th>\n</tr>\n   <tr style=\"border: none\">\n      <th style=\"border: none\"><font face=\"verdana\" size=\"6\" color=\"black\"><b>Cognihack Data Science Track</b></font></th>\n   </tr>\n   <tr style=\"border: none\">\n      <th style=\"border: none\"><font face=\"verdana\" size=\"5\" color=\"black\"><b>Predicting repeat shopping likelihood with Python, Spark and Watson Machine Learning</b></font></th>\n   </tr>\n   <tr style=\"border: none\">\n       <th style=\"border: none\"><img src=\"https://kaggle2.blob.core.windows.net/competitions/kaggle/3897/media/shoppers_lores.png\" alt=\"Icon\" align=\"left\"> </th>\n   </tr>\n</table>"
        }, 
        {
            "cell_type": "markdown", 
            "metadata": {}, 
            "source": "This notebook will take you through the process of creating a predictive model in Python using the data manipulation and machine learning libraries distributed with Spark.  \n- The data we are using here is an open source dataset prepared for a [machine learning challenge](https://www.kaggle.com/c/acquire-valued-shoppers-challenge) hosted on the [Kaggle](https://www.kaggle.com/) website.  \n\nOnce we've worked through the process of reading, understanding and preparing our data and have built a simple model together, we'll deploy it to the [Watson Machine Learning service](https://datascience.ibm.com/features#machinelearning) and make it available as a real-time scoring service.  \n\nYou should spend the remaining time working as a group to speculate on how you might improve these predictions. The cognihack tutors will endeavour to assist with any experimentation to help you create and evaluate refinements to the baseline model.\n\n# Learning goals\n\nThe learning goals of this exercise are:\n\n-  Loading CSV files into an Apache\u00ae Spark DataFrame.\n-  Exploring the data using the features within:  \n    a) Spark's data wrangling Python API: __pyspark.sql__;  \n    b) the __pandas__ data wrangling library; and  \n    c) __matplotlib__ for exploratory plots.  \n-  Engineering some basic predictive features, again using __pyspark.sql__ and Spark __user defined functions (UDFs)__.\n-  Preparing the data for training and evaluation.\n-  Creating an Apache\u00ae Spark machine learning pipeline.\n-  Training and evaluating a model.\n-  Persisting a pipeline and model in Watson Machine Learning repository.\n-  Deploying the model for online scoring using Wastson Machine Learning API.\n-  Scoring sample scoring data using the Watson Machine Learning API.\n\n\n# Contents\n\nThis notebook contains the following parts:\n\n1.\t[Setup](#setup)\n2.\t[Load and understand data](#load)\n3.  [Prepare dataset](#prepare)\n4.\t[Create a basic model](#model)\n5.\t[Deploy and score](#deploy)\n6.\t[Taking it further](#tuning)"
        }, 
        {
            "cell_type": "markdown", 
            "metadata": {}, 
            "source": "<a id=\"setup\"></a>\n# 1. Setup\nBefore we begin working through this notebook, you must perform the following setup tasks:\n\n-  Sign up for the IBM Data Science Experience (using w3 credentials) and create a new project;\n-  Retrieve the **Acquire Valued Shoppers Challenge** data from the [Cognihack Box folder](https://ibm.ent.box.com/folder/25592156534);\n-  Import the data (in csv format) into the Data Science Experience as a 'data asset' (the transactions_subset.csv file will require decompression prior to upload);\n-  Make sure that you are using a Spark 2.0 kernel and Python 2.x; and\n-  Create a [Watson Machine Learning Service](https://console.ng.bluemix.net/catalog/services/ibm-watson-machine-learning/) instance (a free plan is offered)."
        }, 
        {
            "cell_type": "markdown", 
            "metadata": {}, 
            "source": "<a id=\"load\"></a>\n# 2. Load and explore data"
        }, 
        {
            "cell_type": "markdown", 
            "metadata": {}, 
            "source": "## 2.1 Load the data\nThe first step in our analysis process is to bring our data into the Spark environment.  To do this, you will need to experiment with the 'Find and Add Data' functionality within the notebooks environment (see sidebar):\n1.  Find the entry corresponding to one of the .CSV files you uploaded as a data asset.\n2.  Click into the blank cell below this one so that you can see the cursor is ready to insert text.\n3.  Select 'insert credentials' from the drop-down menu next to the file name.\n\nIf everthing has worked correctly, you should now see some code in the cell below defining a new __Python dict__ named *credentials_1*."
        }, 
        {
            "cell_type": "code", 
            "execution_count": 1, 
            "metadata": {
                "collapsed": false
            }, 
            "source": "# The code was removed by DSX for sharing.", 
            "outputs": []
        }, 
        {
            "cell_type": "markdown", 
            "metadata": {}, 
            "source": "__pyspark.sql__ will help us load and manipulate our data from Python while it resides in Spark."
        }, 
        {
            "cell_type": "code", 
            "execution_count": 2, 
            "metadata": {
                "collapsed": true
            }, 
            "source": "from pyspark.sql import SparkSession\nfrom pyspark.sql import functions as F", 
            "outputs": []
        }, 
        {
            "cell_type": "markdown", 
            "metadata": {}, 
            "source": "This last statement will make some aggregation and mutation statements look a little different to the cheat sheet as spark functions will be prefixed by *F.*"
        }, 
        {
            "cell_type": "markdown", 
            "metadata": {}, 
            "source": "This function is used to setup the access of Spark to your Object Storage."
        }, 
        {
            "cell_type": "code", 
            "execution_count": 3, 
            "metadata": {
                "collapsed": false
            }, 
            "source": "def set_hadoop_config_with_credentials(name):\n    \"\"\"This function sets the Hadoop configuration so it is possible to\n    access data from Bluemix Object Storage using Spark\"\"\"\n\n    prefix = 'fs.swift.service.' + name\n    hconf = sc._jsc.hadoopConfiguration()\n    hconf.set(prefix + '.auth.url', credentials_1[\"auth_url\"] +'/v3/auth/tokens')\n    hconf.set(prefix + '.auth.endpoint.prefix', 'endpoints')\n    hconf.set(prefix + '.tenant', credentials_1[\"project_id\"])\n    hconf.set(prefix + '.username', credentials_1[\"user_id\"])\n    hconf.set(prefix + '.password', credentials_1[\"password\"])\n    hconf.setInt(prefix + '.http.port', 8080)\n    hconf.set(prefix + '.region', credentials_1[\"region\"])\n    hconf.setBoolean(prefix + '.public', False)\n\n# you can choose any name\nname = 'keystone'\nset_hadoop_config_with_credentials(name)\n\nspark = SparkSession.builder.getOrCreate()\n", 
            "outputs": []
        }, 
        {
            "cell_type": "markdown", 
            "metadata": {}, 
            "source": "The _spark.read_ function will import a flat file into our spark instance, directly from the Object Store."
        }, 
        {
            "cell_type": "code", 
            "execution_count": 4, 
            "metadata": {
                "collapsed": false
            }, 
            "source": "offers = spark.read\\\n  .format('org.apache.spark.sql.execution.datasources.csv.CSVFileFormat')\\\n  .option('header', 'true')\\\n  .load('swift://' + credentials_1[\"container\"] + '.' + name + '/offers.csv')\n\ntrainHistory = spark.read\\\n  .format('org.apache.spark.sql.execution.datasources.csv.CSVFileFormat')\\\n  .option('header', 'true')\\\n  .load('swift://' + credentials_1[\"container\"] + '.' + name + '/trainHistory.csv')\n    \ntransactions = spark.read\\\n  .format('org.apache.spark.sql.execution.datasources.csv.CSVFileFormat')\\\n  .option('header', 'true')\\\n  .load('swift://' + credentials_1[\"container\"] + '.' + name + '/transactions_subset.csv')", 
            "outputs": []
        }, 
        {
            "cell_type": "markdown", 
            "metadata": {}, 
            "source": "When this is done, we are left with a Python object which is a logical pointer to a Spark DataFrame object.  \nNotice as well that Spark will give us some information on how it is breaking down the heavy lifting into discrete and parallelisable tasks."
        }, 
        {
            "cell_type": "markdown", 
            "metadata": {}, 
            "source": "## 2.2 Quality and completeness\nBefore we can get stuck into building predictive models, we need to first understand if any immediate attention is required to issues of data quality and completeness."
        }, 
        {
            "cell_type": "markdown", 
            "metadata": {}, 
            "source": "Like many data manipulation libraries, Spark makes its own decisions about how to read in data.  \nTo check it has treated our data as we expected, we need to compare the schemata of our Spark DataFrames to that provided with the datasets:\n\n> \n__history__  \n__id__ - A unique id representing a customer  \n__chain__ - An integer representing a store chain  \n__offer__ - An id representing a certain offer  \n__market__ - An id representing a geographical region  \n__repeattrips__ - The number of times the customer made a repeat purchase  \n__repeater__ - A boolean, equal to repeattrips > 0  \n__offerdate__ - The date a customer received the offer  \n>\n__transactions__  \n__id__ - see above  \n__chain__ - see above  \n__dept__ - An aggregate grouping of the Category (e.g. water)  \n__category__ - The product category (e.g. sparkling water)  \n__company__ - An id of the company that sells the item  \n__brand__ - An id of the brand to which the item belongs  \n__date__ - The date of purchase  \n__productsize__ - The amount of the product purchase (e.g. 16 oz of water)  \n__productmeasure__ - The units of the product purchase (e.g. ounces)  \n__purchasequantity__ - The number of units purchased  \n__purchaseamount__ - The dollar amount of the purchase  \n>\n__offers__  \n__offer__ - see above  \n__category__ - see above  \n__quantity__ - The number of units one must purchase to get the discount  \n__company__ - see above  \n__offervalue__ - The dollar value of the offer  \n__brand__ - see above  \n>\nThe transactions file can be joined to the history file by (id,chain). The history file can be joined to the offers file by (offer). The transactions file can be joined to the offers file by (category, brand, company). A negative value in productquantity and purchaseamount indicates a return.\n\nWhile we're at it, let's also see how many observations each dataset has, take a peek at the data and look for any missing values."
        }, 
        {
            "cell_type": "markdown", 
            "metadata": {}, 
            "source": "### 2.2.1 Offer details"
        }, 
        {
            "cell_type": "markdown", 
            "metadata": {}, 
            "source": "First up, the count of observations in the dataset."
        }, 
        {
            "cell_type": "code", 
            "execution_count": 5, 
            "metadata": {
                "collapsed": false
            }, 
            "source": "offers.count()", 
            "outputs": [
                {
                    "data": {
                        "text/plain": "37"
                    }, 
                    "execution_count": 5, 
                    "metadata": {}, 
                    "output_type": "execute_result"
                }
            ]
        }, 
        {
            "cell_type": "markdown", 
            "metadata": {}, 
            "source": "A small, reference dataset."
        }, 
        {
            "cell_type": "markdown", 
            "metadata": {}, 
            "source": "Next question: how is the data typed within the Spark DataFrame?"
        }, 
        {
            "cell_type": "code", 
            "execution_count": 6, 
            "metadata": {
                "collapsed": false
            }, 
            "source": "offers.schema", 
            "outputs": [
                {
                    "data": {
                        "text/plain": "StructType(List(StructField(offer,StringType,true),StructField(category,StringType,true),StructField(quantity,StringType,true),StructField(company,StringType,true),StructField(offervalue,StringType,true),StructField(brand,StringType,true)))"
                    }, 
                    "execution_count": 6, 
                    "metadata": {}, 
                    "output_type": "execute_result"
                }
            ]
        }, 
        {
            "cell_type": "markdown", 
            "metadata": {}, 
            "source": "Spark has interpreted every field as a string. \ud83d\ude44\n\nThere are two fields: _offervalue_ and _quantity_ that definitely should not be strings - let's fix them up now."
        }, 
        {
            "cell_type": "code", 
            "execution_count": 7, 
            "metadata": {
                "collapsed": true
            }, 
            "source": "offers = offers.withColumn(\"offervalue\", offers[\"offervalue\"].cast(\"double\"))\noffers = offers.withColumn(\"quantity\", offers[\"quantity\"].cast(\"double\"))", 
            "outputs": []
        }, 
        {
            "cell_type": "markdown", 
            "metadata": {}, 
            "source": "Now we're ready to take a peak at the data."
        }, 
        {
            "cell_type": "code", 
            "execution_count": 8, 
            "metadata": {
                "collapsed": false
            }, 
            "source": "offers.show()", 
            "outputs": [
                {
                    "name": "stdout", 
                    "output_type": "stream", 
                    "text": "+-------+--------+--------+----------+----------+------+\n|  offer|category|quantity|   company|offervalue| brand|\n+-------+--------+--------+----------+----------+------+\n|1190530|    9115|     1.0| 108500080|       5.0| 93904|\n|1194044|    9909|     1.0| 107127979|       1.0|  6732|\n|1197502|    3203|     1.0| 106414464|      0.75| 13474|\n|1198271|    5558|     1.0| 107120272|       1.5|  5072|\n|1198272|    5558|     1.0| 107120272|       1.5|  5072|\n|1198273|    5558|     1.0| 107120272|       1.5|  5072|\n|1198274|    5558|     1.0| 107120272|       1.5|  5072|\n|1198275|    5558|     1.0| 107120272|       1.5|  5072|\n|1199256|    4401|     1.0| 105100050|       2.0| 13791|\n|1199258|    4401|     1.0| 105100050|       2.0| 13791|\n|1200578|    1703|     1.0| 104460040|       1.5|  7668|\n|1200579|    1703|     1.0| 104460040|       1.5|  7668|\n|1200581|    1726|     1.0| 104460040|      1.25|  7668|\n|1200582|    1726|     1.0| 104460040|      1.25|  7668|\n|1200584|    3504|     1.0| 104460040|      1.25|  7668|\n|1200988|    3509|     1.0| 103320030|       2.0|   875|\n|1203052|    9909|     1.0|1089520383|       1.0| 28840|\n|1203439|    5122|     1.0| 107106878|       1.5| 17311|\n|1204576|    5616|     1.0| 104610040|       1.0| 15889|\n|1204821|    5619|     1.0| 107717272|       1.5|102504|\n+-------+--------+--------+----------+----------+------+\nonly showing top 20 rows\n\n"
                }
            ]
        }, 
        {
            "cell_type": "markdown", 
            "metadata": {}, 
            "source": "And finally, check for any records with a missing value in critical fields."
        }, 
        {
            "cell_type": "code", 
            "execution_count": 9, 
            "metadata": {
                "collapsed": false
            }, 
            "source": "offers.where(offers.offer.isNull() |\n            offers.category.isNull() |\n            offers.quantity.isNull() |\n            offers.company.isNull() |\n            offers.offervalue.isNull() |\n            offers.brand.isNull()).count()", 
            "outputs": [
                {
                    "data": {
                        "text/plain": "0"
                    }, 
                    "execution_count": 9, 
                    "metadata": {}, 
                    "output_type": "execute_result"
                }
            ]
        }, 
        {
            "cell_type": "markdown", 
            "metadata": {}, 
            "source": "### 2.2.2 Customer-Offer History"
        }, 
        {
            "cell_type": "markdown", 
            "metadata": {}, 
            "source": "Can you repeat the same operations here?\n1.  Count the records;\n2.  Inspect the type schema;\n3.  Convert miss-typed fields using _withColumn()_ and _cast()_;\n4.  Inspect the data; and\n5.  Check the dataset for missing values."
        }, 
        {
            "cell_type": "code", 
            "execution_count": 10, 
            "metadata": {
                "collapsed": false
            }, 
            "source": "trainHistory.count()", 
            "outputs": [
                {
                    "data": {
                        "text/plain": "160057"
                    }, 
                    "execution_count": 10, 
                    "metadata": {}, 
                    "output_type": "execute_result"
                }
            ]
        }, 
        {
            "cell_type": "markdown", 
            "metadata": {}, 
            "source": "A larger dataset that relates offers and customers."
        }, 
        {
            "cell_type": "code", 
            "execution_count": 11, 
            "metadata": {
                "collapsed": false
            }, 
            "source": "trainHistory.schema", 
            "outputs": [
                {
                    "data": {
                        "text/plain": "StructType(List(StructField(id,StringType,true),StructField(chain,StringType,true),StructField(offer,StringType,true),StructField(market,StringType,true),StructField(repeattrips,StringType,true),StructField(repeater,StringType,true),StructField(offerdate,StringType,true)))"
                    }, 
                    "execution_count": 11, 
                    "metadata": {}, 
                    "output_type": "execute_result"
                }
            ]
        }, 
        {
            "cell_type": "markdown", 
            "metadata": {}, 
            "source": "Same deal. Let's do some conversion to numeric and datetime types."
        }, 
        {
            "cell_type": "code", 
            "execution_count": 12, 
            "metadata": {
                "collapsed": true
            }, 
            "source": "trainHistory = trainHistory.withColumn(\"repeattrips\", trainHistory[\"repeattrips\"].cast(\"double\"))\ntrainHistory = trainHistory.withColumn(\"repeater\", trainHistory[\"repeater\"].cast(\"boolean\"))\ntrainHistory = trainHistory.withColumn(\"repeater\", trainHistory[\"repeater\"].cast(\"double\"))\ntrainHistory = trainHistory.withColumn(\"offerdate\", trainHistory[\"offerdate\"].cast(\"date\"))", 
            "outputs": []
        }, 
        {
            "cell_type": "code", 
            "execution_count": 13, 
            "metadata": {
                "collapsed": false
            }, 
            "source": "trainHistory.show()", 
            "outputs": [
                {
                    "name": "stdout", 
                    "output_type": "stream", 
                    "text": "+--------+-----+-------+------+-----------+--------+----------+\n|      id|chain|  offer|market|repeattrips|repeater| offerdate|\n+--------+-----+-------+------+-----------+--------+----------+\n|   86246|  205|1208251|    34|        5.0|     1.0|2013-04-24|\n|   86252|  205|1197502|    34|       16.0|     1.0|2013-03-27|\n|12682470|   18|1197502|    11|        0.0|     0.0|2013-03-28|\n|12996040|   15|1197502|     9|        0.0|     0.0|2013-03-25|\n|13089312|   15|1204821|     9|        0.0|     0.0|2013-04-01|\n|13179265|   14|1197502|     8|        0.0|     0.0|2013-03-29|\n|13251776|   15|1200581|     9|        0.0|     0.0|2013-03-30|\n|13540129|   14|1200581|     8|        0.0|     0.0|2013-03-30|\n|13807224|    4|1204576|     1|        0.0|     0.0|2013-04-05|\n|13873775|    4|1197502|     1|        0.0|     0.0|2013-03-26|\n|13974451|    4|1197502|     1|        0.0|     0.0|2013-03-26|\n|14088807|    3|1200581|     2|        1.0|     1.0|2013-04-17|\n|14381137|    4|1197502|     1|        0.0|     0.0|2013-04-04|\n|14576147|   18|1197502|    11|        0.0|     0.0|2013-04-02|\n|15530842|   95|1197502|    39|        0.0|     0.0|2013-04-19|\n|15705695|   15|1197502|     9|        0.0|     0.0|2013-04-02|\n|15738658|   17|1197502|     4|        0.0|     0.0|2013-04-22|\n|15753725|   17|1208251|     4|        0.0|     0.0|2013-04-24|\n|15941277|   14|1197502|     8|        1.0|     1.0|2013-03-26|\n|15994113|    4|1197502|     1|        0.0|     0.0|2013-03-26|\n+--------+-----+-------+------+-----------+--------+----------+\nonly showing top 20 rows\n\n"
                }
            ]
        }, 
        {
            "cell_type": "code", 
            "execution_count": 14, 
            "metadata": {
                "collapsed": false
            }, 
            "source": "trainHistory.where(trainHistory.chain.isNull() | \n                  trainHistory.market.isNull() |\n                  trainHistory.repeattrips.isNull() |\n                  trainHistory.repeater.isNull() |\n                  trainHistory.offerdate.isNull()).count()", 
            "outputs": [
                {
                    "data": {
                        "text/plain": "0"
                    }, 
                    "execution_count": 14, 
                    "metadata": {}, 
                    "output_type": "execute_result"
                }
            ]
        }, 
        {
            "cell_type": "markdown", 
            "metadata": {}, 
            "source": "### 2.2.3 Transactions"
        }, 
        {
            "cell_type": "code", 
            "execution_count": 15, 
            "metadata": {
                "collapsed": false
            }, 
            "source": "transactions.count()", 
            "outputs": [
                {
                    "data": {
                        "text/plain": "27764694"
                    }, 
                    "execution_count": 15, 
                    "metadata": {}, 
                    "output_type": "execute_result"
                }
            ]
        }, 
        {
            "cell_type": "markdown", 
            "metadata": {}, 
            "source": "The largest of the three datasets."
        }, 
        {
            "cell_type": "code", 
            "execution_count": 16, 
            "metadata": {
                "collapsed": false
            }, 
            "source": "transactions.schema", 
            "outputs": [
                {
                    "data": {
                        "text/plain": "StructType(List(StructField(id,StringType,true),StructField(chain,StringType,true),StructField(dept,StringType,true),StructField(category,StringType,true),StructField(company,StringType,true),StructField(brand,StringType,true),StructField(date,StringType,true),StructField(productsize,StringType,true),StructField(productmeasure,StringType,true),StructField(purchasequantity,StringType,true),StructField(purchaseamount,StringType,true)))"
                    }, 
                    "execution_count": 16, 
                    "metadata": {}, 
                    "output_type": "execute_result"
                }
            ]
        }, 
        {
            "cell_type": "code", 
            "execution_count": 17, 
            "metadata": {
                "collapsed": true
            }, 
            "source": "transactions = transactions.withColumn(\"date\", transactions[\"date\"].cast(\"date\"))\ntransactions = transactions.withColumn(\"productsize\", transactions[\"productsize\"].cast(\"double\"))\ntransactions = transactions.withColumn(\"purchasequantity\", transactions[\"purchasequantity\"].cast(\"double\"))\ntransactions = transactions.withColumn(\"purchaseamount\", transactions[\"purchaseamount\"].cast(\"double\"))", 
            "outputs": []
        }, 
        {
            "cell_type": "code", 
            "execution_count": 18, 
            "metadata": {
                "collapsed": false
            }, 
            "source": "transactions.show()", 
            "outputs": [
                {
                    "name": "stdout", 
                    "output_type": "stream", 
                    "text": "+-----+-----+----+--------+----------+-----+----------+-----------+--------------+----------------+--------------+\n|   id|chain|dept|category|   company|brand|      date|productsize|productmeasure|purchasequantity|purchaseamount|\n+-----+-----+----+--------+----------+-----+----------+-----------+--------------+----------------+--------------+\n|86246|  205|   3|     305| 103320030|  875|2013-03-09|       16.0|            OZ|             1.0|          0.99|\n|86246|  205|   3|     305| 103320030|  875|2013-03-10|       32.0|            OZ|             1.0|          1.69|\n|86246|  205|   3|     305| 103320030|  875|2013-04-04|        8.0|            OZ|             2.0|          1.38|\n|86246|  205|   6|     610| 108079383|12778|2013-04-20|       16.0|            OZ|             1.0|          1.99|\n|86246|  205|   7|     703|1076211171|17286|2012-06-16|       0.93|            OZ|             1.0|          7.09|\n|86246|  205|   7|     706| 101200010|17286|2013-03-03|        9.5|            OZ|             1.0|          1.89|\n|86246|  205|   7|     706| 101200010|17286|2013-03-04|       38.0|            OZ|             1.0|          7.77|\n|86246|  205|   7|     706| 101200010|17286|2013-04-23|        9.5|            OZ|             2.0|          3.78|\n|86246|  205|   7|     706| 104127141|26189|2013-02-02|       64.0|            OZ|             1.0|          3.99|\n|86246|  205|   7|     706| 104127141|26189|2013-03-04|       64.0|            OZ|             1.0|          3.99|\n|86246|  205|   7|     706| 104127141|26189|2013-03-11|       64.0|            OZ|             1.0|          3.99|\n|86246|  205|   7|     706| 104127141|26189|2013-03-16|       64.0|            OZ|             1.0|          3.99|\n|86246|  205|   7|     706| 104127141|26189|2013-04-03|       64.0|            OZ|             1.0|          3.99|\n|86246|  205|   7|     706| 104127141|26189|2013-04-16|       64.0|            OZ|             1.0|          3.99|\n|86246|  205|   7|     708|1076211171|17286|2012-09-02|       12.0|            OZ|             1.0|         10.19|\n|86246|  205|   7|     708|1076211171|17286|2013-03-27|       12.0|            OZ|             1.0|         10.29|\n|86246|  205|   7|     708|1076211171|17286|2013-04-19|       12.0|            OZ|             1.0|         10.29|\n|86246|  205|   8|     803| 106414464| 7770|2012-04-06|       12.0|            OZ|             1.0|          2.69|\n|86246|  205|   8|     809| 105100050| 2820|2012-06-01|       10.5|            OZ|             2.0|           2.0|\n|86246|  205|   8|     809| 105100050| 2820|2012-11-04|      10.25|            OZ|             1.0|           1.0|\n+-----+-----+----+--------+----------+-----+----------+-----------+--------------+----------------+--------------+\nonly showing top 20 rows\n\n"
                }
            ]
        }, 
        {
            "cell_type": "code", 
            "execution_count": 19, 
            "metadata": {
                "collapsed": false
            }, 
            "source": "transactions.where(transactions.id.isNull() |\n                  transactions.chain.isNull() |\n                  transactions.dept.isNull() |\n                  transactions.category.isNull() |\n                  transactions.company.isNull() |\n                  transactions.brand.isNull() |\n                  transactions.date.isNull() |\n                  transactions.productsize.isNull() |\n                  transactions.productmeasure.isNull() |\n                  transactions.purchasequantity.isNull() |\n                  transactions.purchaseamount.isNull()).count()", 
            "outputs": [
                {
                    "data": {
                        "text/plain": "0"
                    }, 
                    "execution_count": 19, 
                    "metadata": {}, 
                    "output_type": "execute_result"
                }
            ]
        }, 
        {
            "cell_type": "markdown", 
            "metadata": {}, 
            "source": "## 2.3 Exploration\nLet's begin interpreting the contents of these sets, starting with the range of dates over which the offers were presented to customers."
        }, 
        {
            "cell_type": "code", 
            "execution_count": 20, 
            "metadata": {
                "collapsed": false
            }, 
            "source": "trainHistory.agg(\n    F.min(\"offerdate\").alias(\"offerdate_min\")\n    , F.max(\"offerdate\").alias(\"offerdate_max\")).show()", 
            "outputs": [
                {
                    "name": "stdout", 
                    "output_type": "stream", 
                    "text": "+-------------+-------------+\n|offerdate_min|offerdate_max|\n+-------------+-------------+\n|   2013-03-01|   2013-04-30|\n+-------------+-------------+\n\n"
                }
            ]
        }, 
        {
            "cell_type": "markdown", 
            "metadata": {}, 
            "source": "What is the frequency of records across some of the categorical variables?"
        }, 
        {
            "cell_type": "code", 
            "execution_count": 21, 
            "metadata": {
                "collapsed": false
            }, 
            "source": "trainHistory.groupBy(trainHistory.chain).count().orderBy(\"count\", ascending = False).show(n = 50)", 
            "outputs": [
                {
                    "name": "stdout", 
                    "output_type": "stream", 
                    "text": "+-----+-----+\n|chain|count|\n+-----+-----+\n|   21|27373|\n|  152|10967|\n|   96| 8657|\n|   64| 5889|\n|  360| 5880|\n|   46| 5440|\n|  153| 4850|\n|  101| 4727|\n|  166| 3499|\n|  214| 3390|\n|  377| 2977|\n|    6| 2808|\n|   42| 2711|\n|   89| 2604|\n|  285| 2589|\n|  507| 2586|\n|  165| 2484|\n|  240| 2465|\n|  508| 2375|\n|   15| 2305|\n|   98| 2042|\n|   70| 1967|\n|   24| 1922|\n|   77| 1820|\n|    4| 1753|\n|  126| 1717|\n|   26| 1677|\n|   83| 1675|\n|    2| 1652|\n|  143| 1484|\n|  510| 1454|\n|  104| 1429|\n|   12| 1406|\n|  191| 1391|\n|  211| 1380|\n|   31| 1380|\n|    8| 1327|\n|  206| 1249|\n|   16| 1224|\n|   58| 1162|\n|   18| 1144|\n|   63| 1136|\n|  431| 1121|\n|   85| 1057|\n|   65| 1036|\n|  100|  988|\n|   68|  955|\n|   17|  935|\n|  151|  929|\n|   14|  755|\n+-----+-----+\nonly showing top 50 rows\n\n"
                }
            ]
        }, 
        {
            "cell_type": "markdown", 
            "metadata": {}, 
            "source": "Probably too many of these to do anything useful without grouping."
        }, 
        {
            "cell_type": "markdown", 
            "metadata": {}, 
            "source": "Try for yourself with the _market_ variable."
        }, 
        {
            "cell_type": "code", 
            "execution_count": 22, 
            "metadata": {
                "collapsed": false
            }, 
            "source": "trainHistory.groupBy(trainHistory.market).count().orderBy(\"count\", ascending = False).show(n = 50)", 
            "outputs": [
                {
                    "name": "stdout", 
                    "output_type": "stream", 
                    "text": "+------+-----+\n|market|count|\n+------+-----+\n|    10|41724|\n|    21| 9919|\n|    27| 8657|\n|    37| 7700|\n|     9| 7648|\n|    20| 7438|\n|    15| 7434|\n|    12| 7345|\n|    96| 6895|\n|     8| 6187|\n|    14| 5310|\n|     1| 5037|\n|     4| 4804|\n|    16| 4631|\n|    34| 4045|\n|    33| 3525|\n|    35| 2652|\n|     2| 2044|\n|     7| 2003|\n|    39| 1982|\n|    18| 1903|\n|    11| 1715|\n|    28| 1538|\n|    22| 1495|\n|    17| 1384|\n|    24| 1380|\n|    26| 1036|\n|    43|  668|\n|    45|  631|\n|    23|  511|\n|     6|  491|\n|    93|  188|\n|    47|   71|\n|     5|   66|\n+------+-----+\n\n"
                }
            ]
        }, 
        {
            "cell_type": "markdown", 
            "metadata": {}, 
            "source": "Slightly more usable, perhaps we'll come back to this."
        }, 
        {
            "cell_type": "code", 
            "execution_count": 23, 
            "metadata": {
                "collapsed": false
            }, 
            "source": "trainHistory.describe([\"repeattrips\", \"repeater\"]).show()", 
            "outputs": [
                {
                    "name": "stdout", 
                    "output_type": "stream", 
                    "text": "+-------+-----------------+-------------------+\n|summary|      repeattrips|           repeater|\n+-------+-----------------+-------------------+\n|  count|           160057|             160057|\n|   mean|0.656334930680945|0.27139081702143614|\n| stddev|6.786515664667542|0.44467862202604597|\n|    min|              0.0|                0.0|\n|    max|           2124.0|                1.0|\n+-------+-----------------+-------------------+\n\n"
                }
            ]
        }, 
        {
            "cell_type": "markdown", 
            "metadata": {}, 
            "source": "First insight: 27% of customers to whom an offer is made become repeat shoppers. Does this vary across _market_?"
        }, 
        {
            "cell_type": "code", 
            "execution_count": 24, 
            "metadata": {
                "collapsed": false
            }, 
            "source": "trainHistory.groupBy(trainHistory.market).agg(\n    F.count(\"id\").alias(\"customer_count\")\n    , F.avg(\"repeater\").alias(\"response_rate\")\n    ).orderBy(\"response_rate\", ascending = False).show()", 
            "outputs": [
                {
                    "name": "stdout", 
                    "output_type": "stream", 
                    "text": "+------+--------------+-------------------+\n|market|customer_count|      response_rate|\n+------+--------------+-------------------+\n|    14|          5310|0.44689265536723166|\n|    21|          9919| 0.3638471620122996|\n|    34|          4045|0.31470951792336216|\n|     9|          7648| 0.2906642259414226|\n|    35|          2652| 0.2888386123680241|\n|    10|         41724| 0.2863819384526891|\n|    27|          8657|0.28323899734319047|\n|     4|          4804| 0.2810158201498751|\n|    20|          7438| 0.2737294971766604|\n|     8|          6187|0.27169872312914173|\n|    16|          4631|0.26408982941049447|\n|    18|          1903|0.26221755123489227|\n|    37|          7700| 0.2620779220779221|\n|    47|            71| 0.2535211267605634|\n|    24|          1380| 0.2514492753623188|\n|    12|          7345| 0.2494213750850919|\n|     7|          2003|0.24463305042436345|\n|    28|          1538| 0.2340702210663199|\n|    33|          3525|0.23347517730496453|\n|    43|           668| 0.2275449101796407|\n+------+--------------+-------------------+\nonly showing top 20 rows\n\n"
                }
            ]
        }, 
        {
            "cell_type": "markdown", 
            "metadata": {}, 
            "source": "There's a hypothesis emerging here that our larger markets may show the strongest response to offers. Let's plot it to check."
        }, 
        {
            "cell_type": "code", 
            "execution_count": 25, 
            "metadata": {
                "collapsed": false
            }, 
            "source": "count_vs_rate = trainHistory.groupBy(trainHistory.market).agg(\n    F.count(\"id\").alias(\"customer_count\")\n    , F.avg(\"repeater\").alias(\"response_rate\")\n    ).orderBy(\"response_rate\", ascending = False).toPandas()", 
            "outputs": []
        }, 
        {
            "cell_type": "code", 
            "execution_count": 26, 
            "metadata": {
                "collapsed": false
            }, 
            "source": "%matplotlib inline\nimport matplotlib.pyplot as plt\ncount_vs_rate.plot(kind='scatter', x='customer_count', y='response_rate')", 
            "outputs": [
                {
                    "data": {
                        "text/plain": "<matplotlib.axes._subplots.AxesSubplot at 0x7fa3b69ec810>"
                    }, 
                    "execution_count": 26, 
                    "metadata": {}, 
                    "output_type": "execute_result"
                }, 
                {
                    "data": {
                        "image/png": "[encoded data removed]", 
                        "text/plain": "<matplotlib.figure.Figure at 0x7fa3b6cb9f10>"
                    }, 
                    "metadata": {}, 
                    "output_type": "display_data"
                }
            ]
        }, 
        {
            "cell_type": "code", 
            "execution_count": 27, 
            "metadata": {
                "collapsed": false
            }, 
            "source": "count_vs_rate[count_vs_rate.customer_count < 40000].plot(kind='scatter', x='customer_count', y='response_rate')", 
            "outputs": [
                {
                    "data": {
                        "text/plain": "<matplotlib.axes._subplots.AxesSubplot at 0x7fa3b69a7990>"
                    }, 
                    "execution_count": 27, 
                    "metadata": {}, 
                    "output_type": "execute_result"
                }, 
                {
                    "data": {
                        "image/png": "[encoded data removed]", 
                        "text/plain": "<matplotlib.figure.Figure at 0x7fa3fdfc85d0>"
                    }, 
                    "metadata": {}, 
                    "output_type": "display_data"
                }
            ]
        }, 
        {
            "cell_type": "markdown", 
            "metadata": {}, 
            "source": "There is a weak relationship there, but we probably won't want to employ something as nuanced as this in our first iteration of analysis. Interesting to know though!"
        }, 
        {
            "cell_type": "markdown", 
            "metadata": {}, 
            "source": "We understand a little bit of the offer history data. Let's just check for missing values."
        }, 
        {
            "cell_type": "markdown", 
            "metadata": {}, 
            "source": "Now we need to repeat the process across our other datasets. Let's start with the offers."
        }, 
        {
            "cell_type": "code", 
            "execution_count": 28, 
            "metadata": {
                "collapsed": false
            }, 
            "source": "offers.describe([\"quantity\", \"offervalue\"]).show()", 
            "outputs": [
                {
                    "name": "stdout", 
                    "output_type": "stream", 
                    "text": "+-------+------------------+------------------+\n|summary|          quantity|        offervalue|\n+-------+------------------+------------------+\n|  count|                37|                37|\n|   mean| 1.027027027027027|1.6486486486486487|\n| stddev|0.1643989873053573|0.7347038789810421|\n|    min|               1.0|              0.75|\n|    max|               2.0|               5.0|\n+-------+------------------+------------------+\n\n"
                }
            ]
        }, 
        {
            "cell_type": "markdown", 
            "metadata": {}, 
            "source": "Looks as though a small number of the offers have a different _quantity_ value."
        }, 
        {
            "cell_type": "code", 
            "execution_count": 29, 
            "metadata": {
                "collapsed": false
            }, 
            "source": "offers.groupBy(\"quantity\").count().show()", 
            "outputs": [
                {
                    "name": "stdout", 
                    "output_type": "stream", 
                    "text": "+--------+-----+\n|quantity|count|\n+--------+-----+\n|     1.0|   36|\n|     2.0|    1|\n+--------+-----+\n\n"
                }
            ]
        }, 
        {
            "cell_type": "markdown", 
            "metadata": {}, 
            "source": "Interesting. Is this still applicable when we join _offers_ to our _history_ dataset?"
        }, 
        {
            "cell_type": "code", 
            "execution_count": 30, 
            "metadata": {
                "collapsed": false
            }, 
            "source": "offers[offers.quantity == 2].show()", 
            "outputs": [
                {
                    "name": "stdout", 
                    "output_type": "stream", 
                    "text": "+-------+--------+--------+---------+----------+-----+\n|  offer|category|quantity|  company|offervalue|brand|\n+-------+--------+--------+---------+----------+-----+\n|1221658|    7205|     2.0|103700030|       3.0| 4294|\n+-------+--------+--------+---------+----------+-----+\n\n"
                }
            ]
        }, 
        {
            "cell_type": "code", 
            "execution_count": 31, 
            "metadata": {
                "collapsed": false
            }, 
            "source": "trainHistory[trainHistory.offer==\"1221658\"].count()", 
            "outputs": [
                {
                    "data": {
                        "text/plain": "0"
                    }, 
                    "execution_count": 31, 
                    "metadata": {}, 
                    "output_type": "execute_result"
                }
            ]
        }, 
        {
            "cell_type": "markdown", 
            "metadata": {}, 
            "source": "No. In which case, it's not going to be significant for our analysis and modelling.  \nDo any of the categorical fields have few enough levels to enter into a simple classification model?"
        }, 
        {
            "cell_type": "code", 
            "execution_count": 32, 
            "metadata": {
                "collapsed": false
            }, 
            "source": "offers.groupBy(\"company\").count().orderBy(\"count\", ascending = False).show()", 
            "outputs": [
                {
                    "name": "stdout", 
                    "output_type": "stream", 
                    "text": "+----------+-----+\n|   company|count|\n+----------+-----+\n| 104460040|    7|\n| 103700030|    5|\n| 107120272|    5|\n| 107717272|    2|\n| 105450050|    2|\n|1076211171|    2|\n|1087744888|    2|\n| 105100050|    2|\n| 103320030|    1|\n| 107127979|    1|\n| 104610040|    1|\n| 105190050|    1|\n| 107106878|    1|\n| 106414464|    1|\n| 108079383|    1|\n| 108500080|    1|\n|1089520383|    1|\n| 104127141|    1|\n+----------+-----+\n\n"
                }
            ]
        }, 
        {
            "cell_type": "code", 
            "execution_count": 33, 
            "metadata": {
                "collapsed": false
            }, 
            "source": "offers.groupBy(\"brand\").count().orderBy(\"count\", ascending = False).show()", 
            "outputs": [
                {
                    "name": "stdout", 
                    "output_type": "stream", 
                    "text": "+------+-----+\n| brand|count|\n+------+-----+\n|  5072|    5|\n|  4294|    5|\n|  7668|    5|\n|102504|    2|\n|  3718|    2|\n| 64486|    2|\n| 17286|    2|\n| 13791|    2|\n|  1322|    2|\n| 26456|    1|\n|  6732|    1|\n| 28840|    1|\n|  6926|    1|\n| 17311|    1|\n| 26189|    1|\n| 93904|    1|\n| 13474|    1|\n| 15889|    1|\n|   875|    1|\n+------+-----+\n\n"
                }
            ]
        }, 
        {
            "cell_type": "code", 
            "execution_count": 34, 
            "metadata": {
                "collapsed": false
            }, 
            "source": "offers.groupBy(\"category\").count().orderBy(\"count\", ascending = False).show()", 
            "outputs": [
                {
                    "name": "stdout", 
                    "output_type": "stream", 
                    "text": "+--------+-----+\n|category|count|\n+--------+-----+\n|    7205|    5|\n|    5558|    5|\n|     799|    2|\n|    4517|    2|\n|    4401|    2|\n|    5619|    2|\n|    1726|    2|\n|    6202|    2|\n|    2202|    2|\n|    9909|    2|\n|    1703|    2|\n|    3504|    1|\n|    3509|    1|\n|    9115|    1|\n|     706|    1|\n|    5824|    1|\n|    2119|    1|\n|    3203|    1|\n|    5616|    1|\n|    5122|    1|\n+--------+-----+\n\n"
                }
            ]
        }, 
        {
            "cell_type": "markdown", 
            "metadata": {}, 
            "source": "These might work in a classification tree model which automatically groups, or as a binned aggregate measure of the response rate across each.  \nLet's move on to the transactions."
        }, 
        {
            "cell_type": "markdown", 
            "metadata": {}, 
            "source": "What is the range of dates of our transactions?"
        }, 
        {
            "cell_type": "code", 
            "execution_count": 35, 
            "metadata": {
                "collapsed": false
            }, 
            "source": "transactions.agg(\n    F.min(\"date\").alias(\"date_min\")\n    ,F.max(\"date\").alias(\"date_max\")).show()", 
            "outputs": [
                {
                    "name": "stdout", 
                    "output_type": "stream", 
                    "text": "+----------+----------+\n|  date_min|  date_max|\n+----------+----------+\n|2012-03-02|2013-07-28|\n+----------+----------+\n\n"
                }
            ]
        }, 
        {
            "cell_type": "markdown", 
            "metadata": {}, 
            "source": "Right, so up to a year before the offers were presented.  \nWhat are the ranges of _purchasequantity_ and _purchaseamount_?"
        }, 
        {
            "cell_type": "code", 
            "execution_count": 36, 
            "metadata": {
                "collapsed": false
            }, 
            "source": "transactions.describe([\"productsize\"\n                       ,\"productmeasure\"\n                       ,\"purchasequantity\"\n                       , \"purchaseamount\"]).show()", 
            "outputs": [
                {
                    "name": "stdout", 
                    "output_type": "stream", 
                    "text": "+-------+------------------+--------------+------------------+-----------------+\n|summary|       productsize|productmeasure|  purchasequantity|   purchaseamount|\n+-------+------------------+--------------+------------------+-----------------+\n|  count|          27764694|      27764694|          27764694|         27764694|\n|   mean|28.733898486697072|          null|1.4904842819445443|5.286881874218255|\n| stddev|42.335490620192346|          null|3.8869839815667047|9.019249258411122|\n|    min|               0.0|            CT|             -27.0|          -885.04|\n|    max|            1080.0|            YD|           11845.0|         20728.75|\n+-------+------------------+--------------+------------------+-----------------+\n\n"
                }
            ]
        }, 
        {
            "cell_type": "markdown", 
            "metadata": {}, 
            "source": "OK, we have some returns data in here, too. We may need to account for this in a future iteration of modelling work.   "
        }, 
        {
            "cell_type": "markdown", 
            "metadata": {}, 
            "source": "## 2.4 Activity 1: Data understanding learning challenges"
        }, 
        {
            "cell_type": "markdown", 
            "metadata": {}, 
            "source": "### 2.4.1 Data understanding learning challenge 1\n\nIs there any pattern to the number of records in our *history* dataset by offerdate? Try plotting a graph to investigate."
        }, 
        {
            "cell_type": "code", 
            "execution_count": 60, 
            "metadata": {
                "collapsed": false
            }, 
            "source": "datatoplot = trainHistory.groupBy(\"offerdate\").agg(F.count(\"id\").alias(\"count\"))\ndatatoplot.orderBy(\"count\", ascending = False).show(n = 5)", 
            "outputs": [
                {
                    "name": "stdout", 
                    "output_type": "stream", 
                    "text": "+----------+-----+\n| offerdate|count|\n+----------+-----+\n|2013-03-25|10922|\n|2013-03-26| 9425|\n|2013-04-24| 9044|\n|2013-03-27| 7896|\n|2013-04-23| 7554|\n+----------+-----+\nonly showing top 5 rows\n\n"
                }
            ]
        }, 
        {
            "cell_type": "code", 
            "execution_count": 61, 
            "metadata": {
                "collapsed": false
            }, 
            "source": "datatoplot.orderBy(\"offerdate\").toPandas().plot(kind='bar', x='offerdate', y='count')", 
            "outputs": [
                {
                    "data": {
                        "text/plain": "<matplotlib.axes._subplots.AxesSubplot at 0x7fa344627050>"
                    }, 
                    "execution_count": 61, 
                    "metadata": {}, 
                    "output_type": "execute_result"
                }, 
                {
                    "data": {
                        "image/png": "[encoded data removed]", 
                        "text/plain": "<matplotlib.figure.Figure at 0x7fa344630fd0>"
                    }, 
                    "metadata": {}, 
                    "output_type": "display_data"
                }
            ]
        }, 
        {
            "cell_type": "markdown", 
            "metadata": {}, 
            "source": "The graph above is a little messy and difficult to interpret.  \nLet's use a very quick and dirty approach to extracting the month, plot that and see if this is any easier to interpret."
        }, 
        {
            "cell_type": "code", 
            "execution_count": 64, 
            "metadata": {
                "collapsed": false
            }, 
            "source": "newdata = trainHistory.withColumn(\"offermonth\", datatoplot[\"offerdate\"][:7])\ndatatoplot = newdata.groupBy(\"offermonth\").agg(F.count(\"id\").alias(\"count\"))\ndatatoplot.orderBy(\"offermonth\").toPandas().plot(kind='bar', x='offermonth', y='count')", 
            "outputs": [
                {
                    "data": {
                        "text/plain": "<matplotlib.axes._subplots.AxesSubplot at 0x7fa34151e150>"
                    }, 
                    "execution_count": 64, 
                    "metadata": {}, 
                    "output_type": "execute_result"
                }, 
                {
                    "data": {
                        "image/png": "[encoded data removed]", 
                        "text/plain": "<matplotlib.figure.Figure at 0x7fa34438ea10>"
                    }, 
                    "metadata": {}, 
                    "output_type": "display_data"
                }
            ]
        }, 
        {
            "cell_type": "markdown", 
            "metadata": {}, 
            "source": "We are now able to discriminate between the periods in our analysis, but we've lost the interesting pattern we saw before.  \n\n#### Extension tasks\n1.  Try producing a summary of counts by week.  \n    Hint: take a look at the *resample()* function within **Pandas** or the **pyspark.sql.functions** function *next_day()*.  \n2.  Is there a pattern relating to the day of the week offers are sent out? Is this an important indicator in response likelihood?  \n    Hint: **pyspark.sql.functions**.*weekofyear()* may be helpful."
        }, 
        {
            "cell_type": "markdown", 
            "metadata": {}, 
            "source": "### 2.4.2 Data understanding learning challenge 2"
        }, 
        {
            "cell_type": "markdown", 
            "metadata": {}, 
            "source": "In the data understanding phase, we run lots of operations against our data, and we need these to be optimised in order to complete the task in a timely fashion. In our case, the key differentiator is whether the function requires creation of a Python object (e.g. using Pandas), or whether it can run on a Spark data frame. Let's try using Pandas' implementation of 'describe'"
        }, 
        {
            "cell_type": "code", 
            "execution_count": null, 
            "metadata": {
                "collapsed": true
            }, 
            "source": "trainHistory.toPandas().describe()\noffers.toPandas().describe()", 
            "outputs": []
        }, 
        {
            "cell_type": "markdown", 
            "metadata": {}, 
            "source": "Pyspark.sql also has an implementation of describe(), which we saw earlier. Note: be careful which order you run code, as you may need to declare which module to use a function from. Let's try to use a different set of Pyspark functionality to find the range of our continuous variables."
        }, 
        {
            "cell_type": "code", 
            "execution_count": null, 
            "metadata": {
                "collapsed": true
            }, 
            "source": "transactions.agg(\n    F.min(\"chain\").alias(\"chain_min\")\n    ,F.max(\"chain\").alias(\"chain_max\")\n    ,F.min(\"?\").alias(\"?\")\n    ,F.max(\"?\").alias(\"?\")\n    ?\n    ?\n    ?\n    ?\n    ?\n    ?\n).show()", 
            "outputs": []
        }, 
        {
            "cell_type": "markdown", 
            "metadata": {}, 
            "source": "From the exercise, it looks like there is something strange in one of the columns. Are all of the values positive and with a reasonable range? Let's take a look at some of the negative values"
        }, 
        {
            "cell_type": "code", 
            "execution_count": null, 
            "metadata": {
                "collapsed": true
            }, 
            "source": "transactions[transactions.??].show()", 
            "outputs": []
        }, 
        {
            "cell_type": "markdown", 
            "metadata": {}, 
            "source": "<a id=\"prepare\"></a>\n# 3. Data preparation\nThe output of this phase is a dataset with which we can build and test models.  "
        }, 
        {
            "cell_type": "markdown", 
            "metadata": {}, 
            "source": "## 3.1 Summarising data for use in modelling\nGiven that the aim of the task is to make customer-offer level predictions about likelihood to become a repeat purchaser, data that we use from the _offers_ or _transactions_ datasets will need to be joined to the _history_ dataset.  \nWe have also observed that the _transactions_ dataset contains a large volume of datat, too much to enter into a model without aggregation to the customer, offer level. In aggregating this, our goal is to select an approach which generates features that:\n\na)  retain as much information about the behaviour of these customers as possible; and  \nb)  will be usable in our model (some algorithms can only accept numerical inputs, for example).\n\nAs a starter set, we will simply measure how much each customer had spent in the 30, 60, 90 and 180 days prior to being made an offer.  \nTo do so, we will first need to join the offer history and transactions tables."
        }, 
        {
            "cell_type": "code", 
            "execution_count": null, 
            "metadata": {
                "collapsed": false
            }, 
            "source": "offertxns = transactions.join(trainHistory.select([\"id\" , \"chain\", \"offer\", \"offerdate\", \"repeater\"]), [\"id\", \"chain\"], how = \"inner\")\noffertxns.show(n=5)", 
            "outputs": []
        }, 
        {
            "cell_type": "markdown", 
            "metadata": {}, 
            "source": "Calculate \"history\" interval dates based on _offerdate_."
        }, 
        {
            "cell_type": "code", 
            "execution_count": null, 
            "metadata": {
                "collapsed": false
            }, 
            "source": "offertxns = offertxns.withColumn(\"offerdate_30\", F.date_sub(offertxns.offerdate, 30))\noffertxns = offertxns.withColumn(\"offerdate_60\", F.date_sub(offertxns.offerdate, 60))\noffertxns = offertxns.withColumn(\"offerdate_90\", F.date_sub(offertxns.offerdate, 90))\noffertxns = offertxns.withColumn(\"offerdate_180\", F.date_sub(offertxns.offerdate, 180))\noffertxns.show(n=5)", 
            "outputs": []
        }, 
        {
            "cell_type": "markdown", 
            "metadata": {}, 
            "source": "We can employ a Spark \"user defined function\" to create corresponding aggregation flags to identify whether the transaction in scope of one of the history periods."
        }, 
        {
            "cell_type": "code", 
            "execution_count": null, 
            "metadata": {
                "collapsed": false
            }, 
            "source": "from pyspark.sql.functions import udf\nfrom pyspark.sql.types import IntegerType\n\ndef inDateRange(date, date_lower, date_upper):\n    if date >= date_lower and date <= date_upper: return 1\n    else: return 0\n\nudfInDateRange = udf(inDateRange, IntegerType())\n    \noffertxns = offertxns.withColumn(\"offerdate_30_tf\", udfInDateRange(offertxns.date, offertxns.offerdate_30, offertxns.offerdate))\noffertxns = offertxns.withColumn(\"offerdate_60_tf\", udfInDateRange(offertxns.date, offertxns.offerdate_60, offertxns.offerdate))\noffertxns = offertxns.withColumn(\"offerdate_90_tf\", udfInDateRange(offertxns.date, offertxns.offerdate_90, offertxns.offerdate))\noffertxns = offertxns.withColumn(\"offerdate_180_tf\", udfInDateRange(offertxns.date, offertxns.offerdate_180, offertxns.offerdate))\noffertxns.show(n=5)", 
            "outputs": []
        }, 
        {
            "cell_type": "markdown", 
            "metadata": {}, 
            "source": "At this point we can calculate the quantity and spend per customer per offer.  \nAs an extension, you could join onto the offers table and create equivalent measures for quantity and spend in the same brand, company and category as the offer presented to the customer."
        }, 
        {
            "cell_type": "code", 
            "execution_count": null, 
            "metadata": {
                "collapsed": false
            }, 
            "source": "offertxns = offertxns.withColumn(\"offerdate_30_qty\", offertxns.purchasequantity * offertxns.offerdate_30_tf)\noffertxns = offertxns.withColumn(\"offerdate_60_qty\", offertxns.purchasequantity * offertxns.offerdate_60_tf)\noffertxns = offertxns.withColumn(\"offerdate_90_qty\", offertxns.purchasequantity * offertxns.offerdate_90_tf)\noffertxns = offertxns.withColumn(\"offerdate_180_qty\", offertxns.purchasequantity * offertxns.offerdate_180_tf)\n\noffertxns = offertxns.withColumn(\"offerdate_30_amt\", offertxns.purchaseamount * offertxns.offerdate_30_tf)\noffertxns = offertxns.withColumn(\"offerdate_60_amt\", offertxns.purchaseamount * offertxns.offerdate_60_tf)\noffertxns = offertxns.withColumn(\"offerdate_90_amt\", offertxns.purchaseamount * offertxns.offerdate_90_tf)\noffertxns = offertxns.withColumn(\"offerdate_180_amt\", offertxns.purchaseamount * offertxns.offerdate_180_tf)\noffertxns.show(n=5)", 
            "outputs": []
        }, 
        {
            "cell_type": "code", 
            "execution_count": null, 
            "metadata": {
                "collapsed": false
            }, 
            "source": "offertxnsSum = offertxns.groupBy([\"id\", \"chain\", \"offer\", \"offerdate\", \"repeater\"]).agg(\n    F.sum(\"offerdate_30_qty\").alias(\"qty_30\")\n    , F.sum(\"offerdate_60_qty\").alias(\"qty_60\")\n    , F.sum(\"offerdate_90_qty\").alias(\"qty_90\")\n    , F.sum(\"offerdate_180_qty\").alias(\"qty_180\")\n    , F.sum(\"offerdate_30_amt\").alias(\"amt_30\")\n    , F.sum(\"offerdate_60_amt\").alias(\"amt_60\")\n    , F.sum(\"offerdate_90_amt\").alias(\"amt_90\")\n    , F.sum(\"offerdate_180_amt\").alias(\"amt_180\"))\noffertxnsSum.show(n=5)", 
            "outputs": []
        }, 
        {
            "cell_type": "markdown", 
            "metadata": {}, 
            "source": "## 3.2 Reshaping data"
        }, 
        {
            "cell_type": "markdown", 
            "metadata": {}, 
            "source": "What is the average spend in these intervals?  \nSpark will allow us to calculate this quite easily. In order to plot this nicely, we will need help from the Python data wrangling library of choice: Pandas. Luckily Spark also offers an easy way to translate between the two types of object using the  _.toPandas()_ function."
        }, 
        {
            "cell_type": "code", 
            "execution_count": null, 
            "metadata": {
                "collapsed": false
            }, 
            "source": "import pandas as pd\naverage_spend = offertxnsSum.groupBy(\"repeater\").agg(\n    F.avg(\"amt_30\").alias(\"30\")\n    , F.avg(\"amt_60\").alias(\"60\")\n    , F.avg(\"amt_90\").alias(\"90\")\n    , F.avg(\"amt_180\").alias(\"180\")).toPandas()\n\naverage_spend_melt = pd.melt(average_spend, id_vars = \"repeater\", var_name = \"interval_days\", value_name = \"spend_ave\")\naverage_spend_melt[\"interval_days\"] = pd.to_numeric(average_spend_melt[\"interval_days\"])\n\naverage_spend_melt.head()", 
            "outputs": []
        }, 
        {
            "cell_type": "code", 
            "execution_count": null, 
            "metadata": {
                "collapsed": false
            }, 
            "source": "average_spend_melt.plot(kind='scatter', x='interval_days', y='spend_ave', c=\"repeater\")", 
            "outputs": []
        }, 
        {
            "cell_type": "markdown", 
            "metadata": {}, 
            "source": "## 3.3 Divertissement: interactive charting\n*(Maybe useful for the hack later...)*  \n\nIf we want to add some interactivity to our charts, one great option is the Bokeh library."
        }, 
        {
            "cell_type": "code", 
            "execution_count": null, 
            "metadata": {
                "collapsed": false
            }, 
            "source": "from bokeh.plotting import figure\nfrom bokeh.io import output_notebook, show\nfrom bokeh.charts import Scatter\nfrom bokeh.palettes import brewer\n\noutput_notebook()", 
            "outputs": []
        }, 
        {
            "cell_type": "code", 
            "execution_count": null, 
            "metadata": {
                "collapsed": false
            }, 
            "source": "p = Scatter(average_spend_melt,\n              x=\"interval_days\",\n              y=\"spend_ave\",\n            color = \"repeater\",\n              title = \"Comparison: purchase intervals and average spends\",\n             xlabel = \"Purchase analysis interval\",\n             ylabel = \"Average spend\",\n           palette = brewer[\"Dark2\"][3])\nshow(p)", 
            "outputs": []
        }, 
        {
            "cell_type": "markdown", 
            "metadata": {}, 
            "source": "This gives us a very small level of interaction - but much more is possible!  \nYou may have to move outside of the notebook environment to do this though (using output_file, for example).  \n[Bokeh interactivity docs and examples](http://bokeh.pydata.org/en/0.11.1/docs/user_guide/interaction.html)"
        }, 
        {
            "cell_type": "markdown", 
            "metadata": {}, 
            "source": "## 3.4 Activity 2: Data prep learning challenges"
        }, 
        {
            "cell_type": "markdown", 
            "metadata": {}, 
            "source": "### 3.4.1 Data prep learning challenge 1\nLet's apply some of what we've looked at together and engineer a new feature that may or may not be predictive and useful, but will at least give us some experience of working with the summarisation capability of _pyspark.sql_.  \n\nWhat we are looking to do is examine which departments customers have shopped into as a way of classifying their habits."
        }, 
        {
            "cell_type": "markdown", 
            "metadata": {}, 
            "source": "Let's start by identifying the five most popular departments in our transactions set. We can sample our data to achieve this quickly."
        }, 
        {
            "cell_type": "code", 
            "execution_count": 37, 
            "metadata": {
                "collapsed": false
            }, 
            "source": "(transactions\n     .sample(False, 0.01, 42)\n     .groupBy(\"dept\")\n     .agg(F.count(\"id\").alias(\"transaction_count\"))\n     .orderBy(F.desc(\"transaction_count\"))\n     .show(n=5))", 
            "outputs": [
                {
                    "name": "stdout", 
                    "output_type": "stream", 
                    "text": "+----+-----------------+\n|dept|transaction_count|\n+----+-----------------+\n|  99|            40498|\n|  35|            27908|\n|  37|            21150|\n|  56|            20613|\n|  26|            19429|\n+----+-----------------+\nonly showing top 5 rows\n\n"
                }
            ]
        }, 
        {
            "cell_type": "markdown", 
            "metadata": {}, 
            "source": "We can use these to create a series of flags at the customer level which may be useful in the classification task."
        }, 
        {
            "cell_type": "code", 
            "execution_count": 38, 
            "metadata": {
                "collapsed": false
            }, 
            "source": "customerDepts = (transactions\n                 .withColumn(\"dept_99\", (transactions.dept == 99).cast(\"integer\"))\n                 .withColumn(\"dept_35\", (transactions.dept == 35).cast(\"integer\"))\n                 .withColumn(\"dept_37\", (transactions.dept == 37).cast(\"integer\"))\n                 .withColumn(\"dept_56\", (transactions.dept == 56).cast(\"integer\"))\n                 .withColumn(\"dept_26\", (transactions.dept == 26).cast(\"integer\"))\n                 .groupBy(\"id\")\n                 .agg(F.max(\"dept_99\").alias(\"dept_99\"),\n                     F.max(\"dept_35\").alias(\"dept_35\"),\n                     F.max(\"dept_37\").alias(\"dept_37\"),\n                     F.max(\"dept_56\").alias(\"dept_56\"),\n                     F.max(\"dept_26\").alias(\"dept_26\")))", 
            "outputs": []
        }, 
        {
            "cell_type": "markdown", 
            "metadata": {}, 
            "source": "Let's generate some summary statistics for these fields."
        }, 
        {
            "cell_type": "code", 
            "execution_count": 39, 
            "metadata": {
                "collapsed": false
            }, 
            "source": "customerDepts.show()\ncustomerDepts.describe().show()", 
            "outputs": [
                {
                    "name": "stdout", 
                    "output_type": "stream", 
                    "text": "+---------+-------+-------+-------+-------+-------+\n|       id|dept_99|dept_35|dept_37|dept_56|dept_26|\n+---------+-------+-------+-------+-------+-------+\n|482611271|      0|      1|      1|      1|      1|\n|486861630|      1|      1|      1|      1|      1|\n|488320294|      0|      1|      1|      0|      0|\n|490427651|      0|      1|      0|      1|      1|\n|491038093|      1|      1|      1|      1|      1|\n|491417493|      0|      1|      0|      0|      1|\n|492173734|      1|      1|      1|      1|      1|\n|493826135|      1|      0|      0|      1|      1|\n|494774469|      0|      0|      1|      1|      0|\n|494872618|      1|      1|      1|      1|      1|\n|495048978|      1|      1|      1|      1|      1|\n|495218624|      1|      1|      1|      1|      0|\n|495295324|      1|      1|      1|      0|      1|\n|495394129|      0|      1|      1|      0|      0|\n|495462479|      1|      1|      1|      1|      1|\n|495464277|      0|      1|      0|      1|      1|\n|495514317|      1|      1|      1|      0|      1|\n|495521290|      1|      1|      1|      1|      1|\n|495529152|      1|      1|      1|      1|      0|\n|495537618|      1|      1|      1|      1|      1|\n+---------+-------+-------+-------+-------+-------+\nonly showing top 20 rows\n\n+-------+-------------------+------------------+-------------------+------------------+------------------+\n|summary|            dept_99|           dept_35|            dept_37|           dept_56|           dept_26|\n+-------+-------------------+------------------+-------------------+------------------+------------------+\n|  count|             311201|            311201|             311201|            311201|            311201|\n|   mean| 0.8112184729483517|0.8701160985986549| 0.7619769859351352|0.7219899678985607|0.7460933608825164|\n| stddev|0.39133560303229653|0.3361761989104436|0.42587397389672416|0.4480190834562762|0.4352455243465074|\n|    min|                  0|                 0|                  0|                 0|                 0|\n|    max|                  1|                 1|                  1|                 1|                 1|\n+-------+-------------------+------------------+-------------------+------------------+------------------+\n\n"
                }
            ]
        }, 
        {
            "cell_type": "markdown", 
            "metadata": {}, 
            "source": "Last piece of the puzzle: let's measure the level of correlation of these predictors.  \n(If everybody buys from the same departments then these will not be good predictor variables to use in a model.)\n\n**Pandas** has a very slick way of doing this via. the *.corr()* function, but what do we need to do first to allow us to use our summary data?"
        }, 
        {
            "cell_type": "code", 
            "execution_count": 40, 
            "metadata": {
                "collapsed": false
            }, 
            "source": "customerDepts.toPandas().corr()", 
            "outputs": [
                {
                    "data": {
                        "text/html": "<div>\n<table border=\"1\" class=\"dataframe\">\n  <thead>\n    <tr style=\"text-align: right;\">\n      <th></th>\n      <th>dept_99</th>\n      <th>dept_35</th>\n      <th>dept_37</th>\n      <th>dept_56</th>\n      <th>dept_26</th>\n    </tr>\n  </thead>\n  <tbody>\n    <tr>\n      <th>dept_99</th>\n      <td>1.000000</td>\n      <td>0.148176</td>\n      <td>0.336828</td>\n      <td>0.407508</td>\n      <td>0.089900</td>\n    </tr>\n    <tr>\n      <th>dept_35</th>\n      <td>0.148176</td>\n      <td>1.000000</td>\n      <td>0.214753</td>\n      <td>0.181068</td>\n      <td>0.300631</td>\n    </tr>\n    <tr>\n      <th>dept_37</th>\n      <td>0.336828</td>\n      <td>0.214753</td>\n      <td>1.000000</td>\n      <td>0.357277</td>\n      <td>0.160675</td>\n    </tr>\n    <tr>\n      <th>dept_56</th>\n      <td>0.407508</td>\n      <td>0.181068</td>\n      <td>0.357277</td>\n      <td>1.000000</td>\n      <td>0.146955</td>\n    </tr>\n    <tr>\n      <th>dept_26</th>\n      <td>0.089900</td>\n      <td>0.300631</td>\n      <td>0.160675</td>\n      <td>0.146955</td>\n      <td>1.000000</td>\n    </tr>\n  </tbody>\n</table>\n</div>", 
                        "text/plain": "          dept_99   dept_35   dept_37   dept_56   dept_26\ndept_99  1.000000  0.148176  0.336828  0.407508  0.089900\ndept_35  0.148176  1.000000  0.214753  0.181068  0.300631\ndept_37  0.336828  0.214753  1.000000  0.357277  0.160675\ndept_56  0.407508  0.181068  0.357277  1.000000  0.146955\ndept_26  0.089900  0.300631  0.160675  0.146955  1.000000"
                    }, 
                    "execution_count": 40, 
                    "metadata": {}, 
                    "output_type": "execute_result"
                }
            ]
        }, 
        {
            "cell_type": "markdown", 
            "metadata": {}, 
            "source": "#### Qs.\n1.  Are these good variables to add into the model?\n2.  How else could we test their suitability?\n3.  If we built these flags for a hundred departments: how could we use this information but still only add a small number of additional predictors into our model?"
        }, 
        {
            "cell_type": "markdown", 
            "metadata": {}, 
            "source": "### 3.4.2 Data prep learning challenge 2\nHow could we add a new column to our offer history data, expressing the rank of the chain (by number of customers) within the market?"
        }, 
        {
            "cell_type": "markdown", 
            "metadata": {}, 
            "source": "#### Wrangling pattern:\n1.  Summarise customer counts by chain and market;\n2.  Apply the *rank()* function to customer counts by market; then\n3.  Join back to original dataframe."
        }, 
        {
            "cell_type": "markdown", 
            "metadata": {}, 
            "source": "Starting with (1) - can you use the _agg()_ function to summarise the data appropriately?  \n-  Name your column of counts: *customer_count*\n-  Name your new dataframe: *historyCustCounts*"
        }, 
        {
            "cell_type": "code", 
            "execution_count": 41, 
            "metadata": {
                "collapsed": false
            }, 
            "source": "historyCustCount = (trainHistory\n                    .groupBy(\"market\", \"chain\")\n                    .agg(F.count(\"id\").alias(\"customer_count\")))\nhistoryCustCount.show()\nhistoryCustCount.count()", 
            "outputs": [
                {
                    "name": "stdout", 
                    "output_type": "stream", 
                    "text": "+------+-----+--------------+\n|market|chain|customer_count|\n+------+-----+--------------+\n|     5|   10|            59|\n|    47|  187|            71|\n|    10|   16|          1224|\n|    96|  509|           276|\n|    24|  211|          1380|\n|     7|   12|          1406|\n|    10|  217|             4|\n|    34|  215|           403|\n|    11|   18|          1144|\n|    93|  397|             7|\n|     1|    4|          1753|\n|     9|  422|             3|\n|    20|   42|          2711|\n|    10|  313|            12|\n|    23|   40|           511|\n|     4|    6|          2808|\n|    96|  507|          2586|\n|    93|  398|             5|\n|    12|  307|            24|\n|    96|  404|            36|\n+------+-----+--------------+\nonly showing top 20 rows\n\n"
                }, 
                {
                    "data": {
                        "text/plain": "130"
                    }, 
                    "execution_count": 41, 
                    "metadata": {}, 
                    "output_type": "execute_result"
                }
            ]
        }, 
        {
            "cell_type": "markdown", 
            "metadata": {}, 
            "source": "Moving on to (2), let's calculate a new column *chain_market_rank* within _historyCustCount_ showing the ranking of chains by customer count within each market.  \n**Hint**: as this is a window function (calculates a quantity within a partition, in this case _market_), you'll need to specify the window specification using _Window_ which is available in the _pyspark.sql.window_ library."
        }, 
        {
            "cell_type": "code", 
            "execution_count": 42, 
            "metadata": {
                "collapsed": false
            }, 
            "source": "from pyspark.sql.window import Window\nw = Window.partitionBy(\"market\").orderBy(\"customer_count\")\nhistoryCustCount = historyCustCount.withColumn(\"chain_market_rank\", F.rank().over(w))\nhistoryCustCount.show()", 
            "outputs": [
                {
                    "name": "stdout", 
                    "output_type": "stream", 
                    "text": "+------+-----+--------------+-----------------+\n|market|chain|customer_count|chain_market_rank|\n+------+-----+--------------+-----------------+\n|     7|   20|           597|                1|\n|     7|   12|          1406|                2|\n|    15|  134|           319|                1|\n|    15|   83|          1675|                2|\n|    15|   46|          5440|                3|\n|    11|   23|           119|                1|\n|    11|  278|           452|                2|\n|    11|   18|          1144|                3|\n|    34|  205|           191|                1|\n|    34|  215|           403|                2|\n|    34|  143|          1484|                3|\n|    34|   70|          1967|                4|\n|     8|   14|           755|                1|\n|     8|   98|          2042|                2|\n|     8|  214|          3390|                3|\n|    22|  192|            71|                1|\n|    22|   69|           367|                2|\n|    22|   85|          1057|                3|\n|    28|  246|             3|                1|\n|    28|  424|           373|                2|\n+------+-----+--------------+-----------------+\nonly showing top 20 rows\n\n"
                }
            ]
        }, 
        {
            "cell_type": "markdown", 
            "metadata": {}, 
            "source": "Is this a good variable to use in our model? Let's plot the distribution of values as a histogram.\n\nAgain, Pandas has a very neat function: *.hist()* that allows us to plot histograms quickly."
        }, 
        {
            "cell_type": "code", 
            "execution_count": 43, 
            "metadata": {
                "collapsed": false
            }, 
            "source": "historyCustCount.toPandas().hist(column=\"chain_market_rank\")", 
            "outputs": [
                {
                    "data": {
                        "text/plain": "array([[<matplotlib.axes._subplots.AxesSubplot object at 0x7fa3b68d1850>]], dtype=object)"
                    }, 
                    "execution_count": 43, 
                    "metadata": {}, 
                    "output_type": "execute_result"
                }, 
                {
                    "data": {
                        "image/png": "[encoded data removed]", 
                        "text/plain": "<matplotlib.figure.Figure at 0x7fa3b6857b50>"
                    }, 
                    "metadata": {}, 
                    "output_type": "display_data"
                }
            ]
        }, 
        {
            "cell_type": "markdown", 
            "metadata": {}, 
            "source": "Do you think this would be informative?  \nWhat other analysis could you do to support your assertion?"
        }, 
        {
            "cell_type": "markdown", 
            "metadata": {}, 
            "source": "For completeness, let's go ahead and join this back to our original _trainHistory_ dataframe."
        }, 
        {
            "cell_type": "code", 
            "execution_count": 44, 
            "metadata": {
                "collapsed": false
            }, 
            "source": "trainHistory = trainHistory.join(historyCustCount, [\"chain\", \"market\"], \"inner\")\ntrainHistory.show()", 
            "outputs": [
                {
                    "name": "stdout", 
                    "output_type": "stream", 
                    "text": "+-----+------+--------+-------+-----------+--------+----------+--------------+-----------------+\n|chain|market|      id|  offer|repeattrips|repeater| offerdate|customer_count|chain_market_rank|\n+-----+------+--------+-------+-----------+--------+----------+--------------+-----------------+\n|  205|    34|   86246|1208251|        5.0|     1.0|2013-04-24|           191|                1|\n|  205|    34|   86252|1197502|       16.0|     1.0|2013-03-27|           191|                1|\n|   18|    11|12682470|1197502|        0.0|     0.0|2013-03-28|          1144|                3|\n|   15|     9|12996040|1197502|        0.0|     0.0|2013-03-25|          2305|                6|\n|   15|     9|13089312|1204821|        0.0|     0.0|2013-04-01|          2305|                6|\n|   14|     8|13179265|1197502|        0.0|     0.0|2013-03-29|           755|                1|\n|   15|     9|13251776|1200581|        0.0|     0.0|2013-03-30|          2305|                6|\n|   14|     8|13540129|1200581|        0.0|     0.0|2013-03-30|           755|                1|\n|    4|     1|13807224|1204576|        0.0|     0.0|2013-04-05|          1753|                5|\n|    4|     1|13873775|1197502|        0.0|     0.0|2013-03-26|          1753|                5|\n|    4|     1|13974451|1197502|        0.0|     0.0|2013-03-26|          1753|                5|\n|    3|     2|14088807|1200581|        1.0|     1.0|2013-04-17|           455|                4|\n|    4|     1|14381137|1197502|        0.0|     0.0|2013-04-04|          1753|                5|\n|   18|    11|14576147|1197502|        0.0|     0.0|2013-04-02|          1144|                3|\n|   95|    39|15530842|1197502|        0.0|     0.0|2013-04-19|           591|                1|\n|   15|     9|15705695|1197502|        0.0|     0.0|2013-04-02|          2305|                6|\n|   17|     4|15738658|1197502|        0.0|     0.0|2013-04-22|           935|                2|\n|   17|     4|15753725|1208251|        0.0|     0.0|2013-04-24|           935|                2|\n|   14|     8|15941277|1197502|        1.0|     1.0|2013-03-26|           755|                1|\n|    4|     1|15994113|1197502|        0.0|     0.0|2013-03-26|          1753|                5|\n+-----+------+--------+-------+-----------+--------+----------+--------------+-----------------+\nonly showing top 20 rows\n\n"
                }
            ]
        }, 
        {
            "cell_type": "markdown", 
            "metadata": {}, 
            "source": "We don't need *customer_count*, let's go ahead and drop it."
        }, 
        {
            "cell_type": "code", 
            "execution_count": 45, 
            "metadata": {
                "collapsed": false
            }, 
            "source": "trainHistory = trainHistory.drop(\"customer_count\")\ntrainHistory.show()", 
            "outputs": [
                {
                    "name": "stdout", 
                    "output_type": "stream", 
                    "text": "+-----+------+--------+-------+-----------+--------+----------+-----------------+\n|chain|market|      id|  offer|repeattrips|repeater| offerdate|chain_market_rank|\n+-----+------+--------+-------+-----------+--------+----------+-----------------+\n|  205|    34|   86246|1208251|        5.0|     1.0|2013-04-24|                1|\n|  205|    34|   86252|1197502|       16.0|     1.0|2013-03-27|                1|\n|   18|    11|12682470|1197502|        0.0|     0.0|2013-03-28|                3|\n|   15|     9|12996040|1197502|        0.0|     0.0|2013-03-25|                6|\n|   15|     9|13089312|1204821|        0.0|     0.0|2013-04-01|                6|\n|   14|     8|13179265|1197502|        0.0|     0.0|2013-03-29|                1|\n|   15|     9|13251776|1200581|        0.0|     0.0|2013-03-30|                6|\n|   14|     8|13540129|1200581|        0.0|     0.0|2013-03-30|                1|\n|    4|     1|13807224|1204576|        0.0|     0.0|2013-04-05|                5|\n|    4|     1|13873775|1197502|        0.0|     0.0|2013-03-26|                5|\n|    4|     1|13974451|1197502|        0.0|     0.0|2013-03-26|                5|\n|    3|     2|14088807|1200581|        1.0|     1.0|2013-04-17|                4|\n|    4|     1|14381137|1197502|        0.0|     0.0|2013-04-04|                5|\n|   18|    11|14576147|1197502|        0.0|     0.0|2013-04-02|                3|\n|   95|    39|15530842|1197502|        0.0|     0.0|2013-04-19|                1|\n|   15|     9|15705695|1197502|        0.0|     0.0|2013-04-02|                6|\n|   17|     4|15738658|1197502|        0.0|     0.0|2013-04-22|                2|\n|   17|     4|15753725|1208251|        0.0|     0.0|2013-04-24|                2|\n|   14|     8|15941277|1197502|        1.0|     1.0|2013-03-26|                1|\n|    4|     1|15994113|1197502|        0.0|     0.0|2013-03-26|                5|\n+-----+------+--------+-------+-----------+--------+----------+-----------------+\nonly showing top 20 rows\n\n"
                }
            ]
        }, 
        {
            "cell_type": "markdown", 
            "metadata": {}, 
            "source": "### 3.4.3 Data prep learning challenge 3\nThis challenge is more open ended: you will work from a specification to produce a new predictor variable (i.e. without direction from the script)."
        }, 
        {
            "cell_type": "markdown", 
            "metadata": {}, 
            "source": "This is the specification you have been provided:\n\n#### Calculating \"Customer first transaction interval\"\nWe are hoping to create a variable to encapsulate information about how long a customer began shopping with the company prior to being offered an incentive.  \nTo do this, you will need to:\n1.  Find the first transaction for each customer in the transactions dataset;\n2.  Compare that to the _offerdate_ in the offer history dataset and calculate the number of days between the two (the *datediff()* function will help); and\n3.  Plot (or otherwise analyse) the distribution and make a decision about whether you would include this in a model."
        }, 
        {
            "cell_type": "code", 
            "execution_count": 49, 
            "metadata": {
                "collapsed": false
            }, 
            "source": "firstCustTrans = (transactions\n                  .groupBy(\"id\")\n                  .agg(F.min(\"date\").alias(\"first_purch_date\")))\nfirstCustTrans.show()", 
            "outputs": [
                {
                    "name": "stdout", 
                    "output_type": "stream", 
                    "text": "+---------+----------------+\n|       id|first_purch_date|\n+---------+----------------+\n|499862931|      2012-03-03|\n|499865319|      2012-03-03|\n|499990474|      2012-03-02|\n|500025553|      2012-04-28|\n|500031601|      2012-03-09|\n|500063484|      2012-03-02|\n|500088891|      2012-03-02|\n|500315597|      2012-04-16|\n|500395572|      2012-03-08|\n|500497206|      2012-03-02|\n|500643105|      2012-03-05|\n|500657528|      2012-03-16|\n|500690098|      2012-03-04|\n|500714980|      2012-03-04|\n|500716868|      2012-04-05|\n|500991753|      2012-03-13|\n|501008348|      2012-03-06|\n|501058674|      2012-03-08|\n|501174725|      2012-03-04|\n|501186850|      2012-03-06|\n+---------+----------------+\nonly showing top 20 rows\n\n"
                }
            ]
        }, 
        {
            "cell_type": "code", 
            "execution_count": 50, 
            "metadata": {
                "collapsed": false
            }, 
            "source": "firstCustTrans = (trainHistory\n                  .select(\"id\", \"offerdate\")\n                  .join(firstCustTrans, \"id\")\n                  .withColumn(\"shop_history_interval\", F.datediff(\"offerdate\", \"first_purch_date\")))\n\nfirstCustTrans.show()", 
            "outputs": [
                {
                    "name": "stdout", 
                    "output_type": "stream", 
                    "text": "+---------+----------+----------------+---------------------+\n|       id| offerdate|first_purch_date|shop_history_interval|\n+---------+----------+----------------+---------------------+\n|100388469|2013-04-22|      2012-05-24|                  333|\n|103759429|2013-04-28|      2012-03-04|                  420|\n|103818908|2013-03-26|      2012-03-03|                  388|\n|106546886|2013-04-23|      2012-03-03|                  416|\n|107712225|2013-04-01|      2012-03-13|                  384|\n|118082477|2013-04-18|      2012-06-05|                  317|\n|119705889|2013-04-23|      2012-03-21|                  398|\n|120375279|2013-04-08|      2012-06-12|                  300|\n|120506004|2013-04-27|      2012-03-03|                  420|\n|120971382|2013-04-06|      2012-04-22|                  349|\n|121605477|2013-03-25|      2012-03-03|                  387|\n|121623537|2013-04-16|      2012-03-02|                  410|\n|121949807|2013-03-25|      2012-03-03|                  387|\n|122280118|2013-03-30|      2012-03-04|                  391|\n|124073611|2013-04-06|      2012-03-03|                  399|\n|124211606|2013-03-25|      2012-03-25|                  365|\n|125269857|2013-03-25|      2012-05-22|                  307|\n|126073456|2013-04-03|      2012-03-08|                  391|\n|126546566|2013-03-29|      2012-03-10|                  384|\n|133443845|2013-03-27|      2012-03-09|                  383|\n+---------+----------+----------------+---------------------+\nonly showing top 20 rows\n\n"
                }
            ]
        }, 
        {
            "cell_type": "code", 
            "execution_count": 51, 
            "metadata": {
                "collapsed": false, 
                "scrolled": true
            }, 
            "source": "firstCustTrans.sample(False, 0.01, 42).toPandas().hist(column=\"shop_history_interval\")", 
            "outputs": [
                {
                    "data": {
                        "text/plain": "array([[<matplotlib.axes._subplots.AxesSubplot object at 0x7fa38d36f490>]], dtype=object)"
                    }, 
                    "execution_count": 51, 
                    "metadata": {}, 
                    "output_type": "execute_result"
                }, 
                {
                    "data": {
                        "image/png": "[encoded data removed]", 
                        "text/plain": "<matplotlib.figure.Figure at 0x7fa33c304650>"
                    }, 
                    "metadata": {}, 
                    "output_type": "display_data"
                }
            ]
        }, 
        {
            "cell_type": "markdown", 
            "metadata": {}, 
            "source": "The distribution suggests that our transaction data is censored. Important to know as it suggests the variable will not be helpful."
        }, 
        {
            "cell_type": "markdown", 
            "metadata": {}, 
            "source": "<a id=\"model\"></a>\n# 4. Modelling experiments\nWe're now ready to have a first pass at building a model.  "
        }, 
        {
            "cell_type": "markdown", 
            "metadata": {}, 
            "source": "## 4.1 Holdout partitioning\nFor those who have worked in targeted marketing, this approach will be quite familiar. The premise is to train a model based on one part of your dataset and evaluate its performance using the other.  \nSpark has a convenience function to do just that: _randomSplit()_. The arguments supplied to this function is an array of weights specifying the proportions by which the dataset should be split."
        }, 
        {
            "cell_type": "code", 
            "execution_count": null, 
            "metadata": {
                "collapsed": false, 
                "scrolled": true
            }, 
            "source": "offertxnsSum = offertxnsSum.withColumnRenamed(\"repeater\",\"label\")\nsplits = offertxnsSum.randomSplit([0.7,0.3])\ntrainSet = splits[0]\ntestSet = splits[1]\n\ntrainSet.show(n=5)", 
            "outputs": []
        }, 
        {
            "cell_type": "code", 
            "execution_count": null, 
            "metadata": {
                "collapsed": false
            }, 
            "source": "trainSet.count()", 
            "outputs": []
        }, 
        {
            "cell_type": "markdown", 
            "metadata": {}, 
            "source": "Spark has an idiosyncratic way of taking input and we will have to employ the 'VectorAssembler' function to bundle up the features for us to input into the model."
        }, 
        {
            "cell_type": "code", 
            "execution_count": null, 
            "metadata": {
                "collapsed": false
            }, 
            "source": "from pyspark.ml.linalg import Vectors\nfrom pyspark.ml.feature import VectorAssembler\n\nassembler = VectorAssembler(\n    inputCols=[\"qty_30\", \"qty_60\", \"qty_90\", \"qty_180\",\n              \"amt_30\", \"amt_60\", \"amt_90\", \"amt_180\"],\n    outputCol=\"features\")\n\ntrainSetAssembled = assembler.transform(trainSet)\ntrainSetAssembled.show(n=5, truncate = False)", 
            "outputs": []
        }, 
        {
            "cell_type": "code", 
            "execution_count": null, 
            "metadata": {
                "collapsed": false
            }, 
            "source": "from pyspark.ml.classification import LogisticRegression\nlr = LogisticRegression()\nmodel_lr = lr.fit(trainSetAssembled)", 
            "outputs": []
        }, 
        {
            "cell_type": "code", 
            "execution_count": null, 
            "metadata": {
                "collapsed": false
            }, 
            "source": "model_lr.coefficients", 
            "outputs": []
        }, 
        {
            "cell_type": "code", 
            "execution_count": null, 
            "metadata": {
                "collapsed": false
            }, 
            "source": "roc_lr = model_lr.summary.roc\nroc_lr = roc_lr.toPandas()\nroc_lr.head()", 
            "outputs": []
        }, 
        {
            "cell_type": "code", 
            "execution_count": null, 
            "metadata": {
                "collapsed": false
            }, 
            "source": "fig = plt.figure()\nax = plt.axes()\nax.set(title = \"Receiver-Operator Characteristic\",\n       xlabel = \"False Positive Rate\",\n      ylabel = \"True Positive Rate\")\n\nx = [0,1]\ny = [0,1]\nax.plot(x, y)\nax.plot(roc_lr.FPR, roc_lr.TPR)\nplt.show()", 
            "outputs": []
        }, 
        {
            "cell_type": "code", 
            "execution_count": null, 
            "metadata": {
                "collapsed": false, 
                "scrolled": true
            }, 
            "source": "model_lr.summary.areaUnderROC", 
            "outputs": []
        }, 
        {
            "cell_type": "markdown", 
            "metadata": {}, 
            "source": "Not bad, the competition benchmark for this dataset is 0.59.  \nBefore we start extending this, we should check if our model generalises well by scoring the test set.  \nWe'll industrialise our model using the pipeline functionality of Spark ML, then use it to transform the test set data."
        }, 
        {
            "cell_type": "code", 
            "execution_count": null, 
            "metadata": {
                "collapsed": false
            }, 
            "source": "from pyspark.ml import Pipeline\n\npipeline = Pipeline(stages=[assembler, lr])\nmodel = pipeline.fit(trainSet)", 
            "outputs": []
        }, 
        {
            "cell_type": "code", 
            "execution_count": null, 
            "metadata": {
                "collapsed": true
            }, 
            "source": "prediction = model.transform(testSet)", 
            "outputs": []
        }, 
        {
            "cell_type": "code", 
            "execution_count": null, 
            "metadata": {
                "collapsed": false
            }, 
            "source": "# Select example rows to display.\nprediction.select(\"label\",\"prediction\", \"probability\", \"features\").show(5)", 
            "outputs": []
        }, 
        {
            "cell_type": "code", 
            "execution_count": null, 
            "metadata": {
                "collapsed": false
            }, 
            "source": "from pyspark.ml.evaluation import BinaryClassificationEvaluator\n\nevaluator = BinaryClassificationEvaluator(\n    labelCol=\"label\", rawPredictionCol=\"rawPrediction\", metricName=\"areaUnderROC\")\naccuracy = evaluator.evaluate(prediction)\nprint \"Area under the ROC curve = %g \" % accuracy", 
            "outputs": []
        }, 
        {
            "cell_type": "code", 
            "execution_count": null, 
            "metadata": {
                "collapsed": false
            }, 
            "source": "from sklearn.metrics import roc_curve\n\nprediction_collect = prediction.select(\"label\", \"probability\").toPandas()\nroc_inputs = [(float(i[1][0]), float(i[1][1][1])) for i in prediction_collect.iterrows()]\nroc_inputs = pd.DataFrame(roc_inputs, columns = [\"label\",\"prob\"])\nfpr, tpr, _ = roc_curve(y_true = roc_inputs.label, \n                        y_score = roc_inputs.prob)\n\nroc_lr_test = pd.DataFrame(\n   {\"FPR\" : fpr\n    ,\"TPR\" : tpr})", 
            "outputs": []
        }, 
        {
            "cell_type": "code", 
            "execution_count": null, 
            "metadata": {
                "collapsed": false
            }, 
            "source": "fig = plt.figure()\nax = plt.axes()\nax.set(title = \"Receiver-Operator Characteristic\",\n       xlabel = \"False Positive Rate\",\n      ylabel = \"True Positive Rate\")\n\nx = [0,1]\ny = [0,1]\nax.plot(x, y)\nax.plot(roc_lr.FPR, roc_lr.TPR)\nax.plot(roc_lr_test.FPR, roc_lr_test.TPR, linestyle=\"dashed\")\nplt.show()", 
            "outputs": []
        }, 
        {
            "cell_type": "markdown", 
            "metadata": {}, 
            "source": "### 4.2.1 Modeling Exercises - Creating a Decision Tree"
        }, 
        {
            "cell_type": "markdown", 
            "metadata": {}, 
            "source": "We've seen how to create a logistic regression model. However, this is a parametric model and requires making some distributional assumptions about our data. In some cases this is not appropriate and we need to use a non-parametric method. Let's go through the same approach using pyspark.ml.classification, and fit a decision tree "
        }, 
        {
            "cell_type": "code", 
            "execution_count": null, 
            "metadata": {
                "collapsed": true
            }, 
            "source": "from pyspark.ml.classification import ?\ndt = ?\nmodel_dt = ?", 
            "outputs": []
        }, 
        {
            "cell_type": "markdown", 
            "metadata": {}, 
            "source": "The first thing we did with our logistic regression was to look at the parameter values. There is no equivalent for decision trees. We can use the dir() function to see what attributes our model_dt object has. Take a look, and use the attributes to get a view of the most important predictors in our data set."
        }, 
        {
            "cell_type": "code", 
            "execution_count": null, 
            "metadata": {
                "collapsed": true
            }, 
            "source": "dir(model_dt)\nmodel_dt.?", 
            "outputs": []
        }, 
        {
            "cell_type": "markdown", 
            "metadata": {}, 
            "source": "Let's now follow the pipeline approach of the model above in the example."
        }, 
        {
            "cell_type": "code", 
            "execution_count": null, 
            "metadata": {
                "collapsed": true
            }, 
            "source": "pipelinedt = Pipeline(stages=[assembler, dt])\nmodeldt = pipelinedt.fit(trainSet)", 
            "outputs": []
        }, 
        {
            "cell_type": "code", 
            "execution_count": null, 
            "metadata": {
                "collapsed": true
            }, 
            "source": "predictiondt = modeldt.transform(trainSet)\npredictiondt.select(\"label\", \"prediction\", \"probability\").show(5)", 
            "outputs": []
        }, 
        {
            "cell_type": "code", 
            "execution_count": null, 
            "metadata": {
                "collapsed": true
            }, 
            "source": "evaluatordt = BinaryClassificationEvaluator(\n    labelCol=\"label\", rawPredictionCol=\"rawPrediction\", metricName=\"areaUnderROC\")\naccuracydt = evaluatordt.evaluate(predictiondt)\nprint \"Area under the ROC curve = %g \" % accuracydt", 
            "outputs": []
        }, 
        {
            "cell_type": "markdown", 
            "metadata": {}, 
            "source": "Now, there is a stochastic element to the building of these models, but in preparation for Cognihack, something felt strange about the AUC we were getting. Have a chat with your teams about why this may be the case, in particular in the context of parallel computing."
        }, 
        {
            "cell_type": "markdown", 
            "metadata": {}, 
            "source": "#### Extension: "
        }, 
        {
            "cell_type": "markdown", 
            "metadata": {}, 
            "source": "- Try recreating the decision tree model, carefully selecting your features. \n- What about any more data derivations you could include\n- Try selecting the parameters of the decision tree, such as depth and minimum split size\n- Consider other classification algorithms, either from pyspark.ml or elsewhere"
        }, 
        {
            "cell_type": "markdown", 
            "metadata": {}, 
            "source": "<a id=\"deploy\"></a>\n# 5. Deploy and score\n\nWith the advent of __Watson Machine Learning__, we can quite easily deploy our model to a cloud scoring service.  "
        }, 
        {
            "cell_type": "markdown", 
            "metadata": {}, 
            "source": "## 5.1 Persist Spark model within the ML repository\n\nThe first step here is to import the relevant client libraries."
        }, 
        {
            "cell_type": "code", 
            "execution_count": null, 
            "metadata": {
                "collapsed": true
            }, 
            "source": "from repository.mlrepositoryclient import MLRepositoryClient\nfrom repository.mlrepositoryartifact import MLRepositoryArtifact", 
            "outputs": []
        }, 
        {
            "cell_type": "markdown", 
            "metadata": {}, 
            "source": "**Tip**: service_path, user and password can be found on **Service Credentials** tab of service instance created in Bluemix."
        }, 
        {
            "cell_type": "markdown", 
            "metadata": {}, 
            "source": "For example, the following code:  \n```\nwml_service_path = \"https://ibm-watson-ml.mybluemix.net\"  \nwml_username = \"ebecda6c-a18b-4c6f-82e4-4c7fc26361f4\"  \nwml_password = \"4705d497-fcc0-4e1c-9f55-934b13b13fb2\"  \n```\nWill create the necessary credentials to connect to the Watson ML service. Just substitute in your own in the place of these example values."
        }, 
        {
            "cell_type": "code", 
            "execution_count": null, 
            "metadata": {
                "collapsed": true
            }, 
            "source": "# The code was removed by DSX for sharing.", 
            "outputs": []
        }, 
        {
            "cell_type": "code", 
            "execution_count": null, 
            "metadata": {
                "collapsed": false
            }, 
            "source": "ml_repository_client = MLRepositoryClient(wml_service_path)\nml_repository_client.authorize(wml_username, wml_password)", 
            "outputs": []
        }, 
        {
            "cell_type": "markdown", 
            "metadata": {}, 
            "source": "Create model artifact (abstraction layer)."
        }, 
        {
            "cell_type": "code", 
            "execution_count": null, 
            "metadata": {
                "collapsed": true
            }, 
            "source": "model_artifact = MLRepositoryArtifact(model, training_data=trainSet, name=\"Repeat Buyer Prediction Model\")", 
            "outputs": []
        }, 
        {
            "cell_type": "markdown", 
            "metadata": {}, 
            "source": "**Tip**: The MLRepositoryArtifact method expects a trained model object, training data, and a model name. (It is this model name that is displayed by the Watson Machine Learning service).  "
        }, 
        {
            "cell_type": "markdown", 
            "metadata": {}, 
            "source": "We can now save our model to the repository."
        }, 
        {
            "cell_type": "code", 
            "execution_count": null, 
            "metadata": {
                "collapsed": true
            }, 
            "source": "saved_model = ml_repository_client.models.save(model_artifact)", 
            "outputs": []
        }, 
        {
            "cell_type": "markdown", 
            "metadata": {}, 
            "source": "Get saved model metadata from Watson Machine Learning.  \n**Tip**: Use *meta.available_props()* to get the list of available props."
        }, 
        {
            "cell_type": "code", 
            "execution_count": null, 
            "metadata": {
                "collapsed": false
            }, 
            "source": "saved_model.meta.available_props()", 
            "outputs": []
        }, 
        {
            "cell_type": "code", 
            "execution_count": null, 
            "metadata": {
                "collapsed": false
            }, 
            "source": "print \"modelType: \" + saved_model.meta.prop(\"modelType\")\nprint \"trainingDataSchema: \" + str(saved_model.meta.prop(\"trainingDataSchema\"))\nprint \"creationTime: \" + str(saved_model.meta.prop(\"creationTime\"))\nprint \"modelVersionHref: \" + saved_model.meta.prop(\"modelVersionHref\")\nprint \"label: \" + saved_model.meta.prop(\"label\")", 
            "outputs": []
        }, 
        {
            "cell_type": "markdown", 
            "metadata": {}, 
            "source": "**Tip**: **modelVersionHref** is our model unique indentifier in the Watson Machine Learning repository."
        }, 
        {
            "cell_type": "markdown", 
            "metadata": {}, 
            "source": "## 5.2 Create an online scoring endpoint\nIn this section you will learn how to create online scoring and to score a new data record by using the Watson Machine Learning REST API.  \nFor more information about REST APIs, see the [Swagger Documentation](http://watson-ml-api.mybluemix.net/).  \nTo work with the Watson Machine Leraning REST API you must generate an access token. To do that you can use the following sample code:"
        }, 
        {
            "cell_type": "code", 
            "execution_count": null, 
            "metadata": {
                "collapsed": false
            }, 
            "source": "import urllib3, requests, json\n\nheaders = urllib3.util.make_headers(basic_auth='{}:{}'.format(wml_username, wml_password))\nurl = '{}/v2/identity/token'.format(wml_service_path)\nresponse = requests.get(url, headers=headers)\nmltoken = json.loads(response.text).get('token')\nprint mltoken", 
            "outputs": []
        }, 
        {
            "cell_type": "markdown", 
            "metadata": {}, 
            "source": "You can now create an online scoring endpoint. Execute the following sample code that uses the **modelVersionHref** value to create the scoring endpoint to the Bluemix repository."
        }, 
        {
            "cell_type": "code", 
            "execution_count": null, 
            "metadata": {
                "collapsed": false
            }, 
            "source": "endpoint_online = wml_service_path + \"/v2/online/deployments/\"\nheader_online = {'Content-Type': 'application/json', 'Authorization': mltoken}\npayload_online = {\"artifactVersionHref\": saved_model.meta.prop(\"modelVersionHref\"), \"name\": \"Repeat Shopper Prediction\"}\n\nprint endpoint_online\nprint header_online\nprint payload_online\n\nresponse_online = requests.post(endpoint_online, json=payload_online, headers=header_online)\n\nprint response_online\nprint response_online.text\n\nscoring_href = json.loads(response_online.text).get('entity').get('scoringHref')\nprint scoring_href", 
            "outputs": []
        }, 
        {
            "cell_type": "markdown", 
            "metadata": {
                "collapsed": false
            }, 
            "source": "Let's see what happens when we send a PUT request to our new endpoint containing a new scoring record. The model should hopefully return some predictions."
        }, 
        {
            "cell_type": "code", 
            "execution_count": null, 
            "metadata": {
                "collapsed": false
            }, 
            "source": "payload_scoring = {\n    \"record\":[\n        \"42\", #id                     \n        \"8620\", #chain\n        \"400\", #offer\n        \"2017-6-5\", #offerdate\n        5, #qty_30\n        10, #qty_60\n        15, #qty_90\n        20, #qty_180\n        50, #amt_30\n        100, #amt_60\n        150, #amt_90\n        200, #amt_180\n    ]}\n\nresponse_scoring = requests.put(scoring_href, json=payload_scoring, headers=header_online)\n\nprint response_scoring.text", 
            "outputs": []
        }, 
        {
            "cell_type": "markdown", 
            "metadata": {}, 
            "source": "<a id=\"tuning\"></a>\n# 6. Taking it further: analysis iterations and model tuning"
        }, 
        {
            "cell_type": "markdown", 
            "metadata": {}, 
            "source": "Can you get closer to the benchmark? Think about how you might improve the accuracy of our predictions, perhaps by:\n  - engineering more detailed features;\n  - experimenting with different modelling algorithms; or\n  - employing alternative approaches to model validation."
        }, 
        {
            "cell_type": "code", 
            "execution_count": null, 
            "metadata": {
                "collapsed": true
            }, 
            "source": "", 
            "outputs": []
        }
    ], 
    "metadata": {
        "kernelspec": {
            "display_name": "Python 2 with Spark 2.0", 
            "language": "python", 
            "name": "python2-spark20"
        }, 
        "language_info": {
            "codemirror_mode": {
                "version": 2, 
                "name": "ipython"
            }, 
            "version": "2.7.11", 
            "name": "python", 
            "file_extension": ".py", 
            "nbconvert_exporter": "python", 
            "mimetype": "text/x-python", 
            "pygments_lexer": "ipython2"
        }
    }, 
    "nbformat_minor": 0
}